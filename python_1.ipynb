{
  "cells": [
    {
      "cell_type": "markdown",
      "metadata": {
        "id": "view-in-github",
        "colab_type": "text"
      },
      "source": [
        "<a href=\"https://colab.research.google.com/github/markng788/learningpython/blob/main/Python__1.ipynb\" target=\"_parent\"><img src=\"https://colab.research.google.com/assets/colab-badge.svg\" alt=\"Open In Colab\"/></a>"
      ]
    },
    {
      "cell_type": "markdown",
      "id": "a9ebd812-de5c-4ddf-9be1-b7914c5a2ee1",
      "metadata": {
        "id": "a9ebd812-de5c-4ddf-9be1-b7914c5a2ee1"
      },
      "source": [
        "# Learning the basic operations of Python\n"
      ]
    },
    {
      "cell_type": "markdown",
      "source": [
        "The code shown in the image demonstrates basic variable assignments and type conversions in Python. Several variables with different variable type set and each variable stores different contents or values."
      ],
      "metadata": {
        "id": "GgdmkqmIl9PJ"
      },
      "id": "GgdmkqmIl9PJ"
    },
    {
      "cell_type": "code",
      "execution_count": 1,
      "id": "3012226b-6649-4e61-9543-6158189e59ab",
      "metadata": {
        "id": "3012226b-6649-4e61-9543-6158189e59ab"
      },
      "outputs": [],
      "source": [
        "#Create a string variable\n",
        "\n",
        "name = 'jasdeep'"
      ]
    },
    {
      "cell_type": "code",
      "execution_count": 2,
      "id": "6eca50de-b654-4606-a16b-8f0b3e1e1eca",
      "metadata": {
        "id": "6eca50de-b654-4606-a16b-8f0b3e1e1eca",
        "outputId": "b7746dd6-078f-459e-d1ce-2eb769db8383",
        "colab": {
          "base_uri": "https://localhost:8080/",
          "height": 35
        }
      },
      "outputs": [
        {
          "output_type": "execute_result",
          "data": {
            "text/plain": [
              "'jasdeep'"
            ],
            "application/vnd.google.colaboratory.intrinsic+json": {
              "type": "string"
            }
          },
          "metadata": {},
          "execution_count": 2
        }
      ],
      "source": [
        "name"
      ]
    },
    {
      "cell_type": "code",
      "execution_count": 3,
      "id": "1812bbac-b37a-43b3-99d1-f71d751bde7a",
      "metadata": {
        "id": "1812bbac-b37a-43b3-99d1-f71d751bde7a",
        "outputId": "e4a4d1a6-988c-4872-eb1c-fd7295c03751",
        "colab": {
          "base_uri": "https://localhost:8080/",
          "height": 35
        }
      },
      "outputs": [
        {
          "output_type": "execute_result",
          "data": {
            "text/plain": [
              "'Hello'"
            ],
            "application/vnd.google.colaboratory.intrinsic+json": {
              "type": "string"
            }
          },
          "metadata": {},
          "execution_count": 3
        }
      ],
      "source": [
        "string = 'Hello'\n",
        "string"
      ]
    },
    {
      "cell_type": "code",
      "execution_count": 4,
      "id": "ef6fa254-44cd-49cb-9f55-182b7bee4922",
      "metadata": {
        "id": "ef6fa254-44cd-49cb-9f55-182b7bee4922",
        "outputId": "19ae5d51-3833-4c75-aa3b-7e7fd805579d",
        "colab": {
          "base_uri": "https://localhost:8080/",
          "height": 35
        }
      },
      "outputs": [
        {
          "output_type": "execute_result",
          "data": {
            "text/plain": [
              "'Faith Fabiyi'"
            ],
            "application/vnd.google.colaboratory.intrinsic+json": {
              "type": "string"
            }
          },
          "metadata": {},
          "execution_count": 4
        }
      ],
      "source": [
        "A = \"Faith Fabiyi\"\n",
        "A"
      ]
    },
    {
      "cell_type": "code",
      "source": [
        "#create a float variable (B)\n",
        "\n",
        "B = float(24)\n",
        "B"
      ],
      "metadata": {
        "colab": {
          "base_uri": "https://localhost:8080/"
        },
        "id": "R8nR0iQfY7xr",
        "outputId": "0171eb98-1ec0-4dbc-f62d-5e17ae008a71"
      },
      "id": "R8nR0iQfY7xr",
      "execution_count": 5,
      "outputs": [
        {
          "output_type": "execute_result",
          "data": {
            "text/plain": [
              "24.0"
            ]
          },
          "metadata": {},
          "execution_count": 5
        }
      ]
    },
    {
      "cell_type": "code",
      "execution_count": 7,
      "id": "cba99c98-7aa4-4852-9b32-be20e5592567",
      "metadata": {
        "id": "cba99c98-7aa4-4852-9b32-be20e5592567"
      },
      "outputs": [],
      "source": [
        "#change float variable into integer\n",
        "\n",
        "B = int(float(24))"
      ]
    },
    {
      "cell_type": "code",
      "execution_count": 8,
      "id": "f8bd765b-8752-4e48-8e78-ca2a0b3b21a1",
      "metadata": {
        "id": "f8bd765b-8752-4e48-8e78-ca2a0b3b21a1",
        "outputId": "10bd2ca1-1889-4fc8-90d6-d94deb850f48",
        "colab": {
          "base_uri": "https://localhost:8080/"
        }
      },
      "outputs": [
        {
          "output_type": "execute_result",
          "data": {
            "text/plain": [
              "24"
            ]
          },
          "metadata": {},
          "execution_count": 8
        }
      ],
      "source": [
        "B"
      ]
    },
    {
      "cell_type": "code",
      "execution_count": 9,
      "id": "e5fcc128-3fa8-4458-992c-c6b3ddc6e87d",
      "metadata": {
        "id": "e5fcc128-3fa8-4458-992c-c6b3ddc6e87d",
        "outputId": "9de8bb0a-41a0-4fbb-ea5f-d84bf8101439",
        "colab": {
          "base_uri": "https://localhost:8080/"
        }
      },
      "outputs": [
        {
          "output_type": "execute_result",
          "data": {
            "text/plain": [
              "26"
            ]
          },
          "metadata": {},
          "execution_count": 9
        }
      ],
      "source": [
        "B = int(26)\n",
        "B"
      ]
    },
    {
      "cell_type": "code",
      "execution_count": 10,
      "id": "90eb085c-301e-4de9-8f23-fc0019c891f6",
      "metadata": {
        "id": "90eb085c-301e-4de9-8f23-fc0019c891f6",
        "outputId": "8191a7bc-9edd-4796-8b0e-42ceae7c2593",
        "colab": {
          "base_uri": "https://localhost:8080/"
        }
      },
      "outputs": [
        {
          "output_type": "execute_result",
          "data": {
            "text/plain": [
              "26.0"
            ]
          },
          "metadata": {},
          "execution_count": 10
        }
      ],
      "source": [
        "B = float(26)\n",
        "B"
      ]
    },
    {
      "cell_type": "code",
      "execution_count": 11,
      "id": "d1f19d59-8e72-4e76-8b54-aacc863e87a9",
      "metadata": {
        "id": "d1f19d59-8e72-4e76-8b54-aacc863e87a9",
        "outputId": "c04a1a9c-bb93-43f9-f37a-73907832cca3",
        "colab": {
          "base_uri": "https://localhost:8080/"
        }
      },
      "outputs": [
        {
          "output_type": "execute_result",
          "data": {
            "text/plain": [
              "26.0"
            ]
          },
          "metadata": {},
          "execution_count": 11
        }
      ],
      "source": [
        "B"
      ]
    },
    {
      "cell_type": "markdown",
      "source": [
        "Use the input command to get user input as a string. To perform calculations, convert the input to an integer or float."
      ],
      "metadata": {
        "id": "hoIacsOMnF9v"
      },
      "id": "hoIacsOMnF9v"
    },
    {
      "cell_type": "code",
      "source": [
        "input()\n",
        "\n",
        "#enter information as string - so need to change to int or float for calculation"
      ],
      "metadata": {
        "colab": {
          "base_uri": "https://localhost:8080/",
          "height": 53
        },
        "id": "bdmKjSx2aGq3",
        "outputId": "1334908c-8600-49a2-c716-ba992f4def26"
      },
      "id": "bdmKjSx2aGq3",
      "execution_count": 13,
      "outputs": [
        {
          "name": "stdout",
          "output_type": "stream",
          "text": [
            "24\n"
          ]
        },
        {
          "output_type": "execute_result",
          "data": {
            "text/plain": [
              "'24'"
            ],
            "application/vnd.google.colaboratory.intrinsic+json": {
              "type": "string"
            }
          },
          "metadata": {},
          "execution_count": 13
        }
      ]
    },
    {
      "cell_type": "code",
      "source": [
        "input(\"please enter your name: \")\n"
      ],
      "metadata": {
        "colab": {
          "base_uri": "https://localhost:8080/",
          "height": 53
        },
        "id": "_ZjxsM8-aVHt",
        "outputId": "2892933a-f238-49b0-a02f-d67bc12e0df9"
      },
      "id": "_ZjxsM8-aVHt",
      "execution_count": 14,
      "outputs": [
        {
          "name": "stdout",
          "output_type": "stream",
          "text": [
            "please enter your name: Mark\n"
          ]
        },
        {
          "output_type": "execute_result",
          "data": {
            "text/plain": [
              "'Mark'"
            ],
            "application/vnd.google.colaboratory.intrinsic+json": {
              "type": "string"
            }
          },
          "metadata": {},
          "execution_count": 14
        }
      ]
    },
    {
      "cell_type": "code",
      "execution_count": 15,
      "id": "f43f84cc-d057-4b74-b293-9d1addaab801",
      "metadata": {
        "id": "f43f84cc-d057-4b74-b293-9d1addaab801",
        "outputId": "da67503f-2d5a-4e94-e6ab-e4baa88cb3b0",
        "colab": {
          "base_uri": "https://localhost:8080/"
        }
      },
      "outputs": [
        {
          "name": "stdout",
          "output_type": "stream",
          "text": [
            "please tell your Age:99\n"
          ]
        },
        {
          "output_type": "execute_result",
          "data": {
            "text/plain": [
              "99"
            ]
          },
          "metadata": {},
          "execution_count": 15
        }
      ],
      "source": [
        "int(input(\"please tell your Age:\"))\n",
        "\n",
        "#input function: get input from users"
      ]
    },
    {
      "cell_type": "code",
      "execution_count": 16,
      "id": "267827f7-95cb-4ede-82f2-426e9334afd4",
      "metadata": {
        "id": "267827f7-95cb-4ede-82f2-426e9334afd4",
        "outputId": "117dbebe-88b5-4ada-ac25-2cfa4be6155c",
        "colab": {
          "base_uri": "https://localhost:8080/"
        }
      },
      "outputs": [
        {
          "name": "stdout",
          "output_type": "stream",
          "text": [
            "please enter your name:Mark\n"
          ]
        }
      ],
      "source": [
        "student_name = input(\"please enter your name:\")"
      ]
    },
    {
      "cell_type": "code",
      "execution_count": 17,
      "id": "85fac6fa-c2a3-4593-aa44-519dbda506e3",
      "metadata": {
        "id": "85fac6fa-c2a3-4593-aa44-519dbda506e3",
        "outputId": "13e75a9a-868c-4021-d1eb-8eeddda4a8fd",
        "colab": {
          "base_uri": "https://localhost:8080/",
          "height": 35
        }
      },
      "outputs": [
        {
          "output_type": "execute_result",
          "data": {
            "text/plain": [
              "'Mark'"
            ],
            "application/vnd.google.colaboratory.intrinsic+json": {
              "type": "string"
            }
          },
          "metadata": {},
          "execution_count": 17
        }
      ],
      "source": [
        "student_name"
      ]
    },
    {
      "cell_type": "code",
      "execution_count": 18,
      "id": "88d04440-687d-45ab-bf0f-baa6811dbc4c",
      "metadata": {
        "id": "88d04440-687d-45ab-bf0f-baa6811dbc4c",
        "outputId": "ac3d1d45-f1c0-42b7-ed10-a60c2bb7dbf5",
        "colab": {
          "base_uri": "https://localhost:8080/"
        }
      },
      "outputs": [
        {
          "name": "stdout",
          "output_type": "stream",
          "text": [
            "please enter your age50\n"
          ]
        }
      ],
      "source": [
        "student_age = input(\"please enter your age\")"
      ]
    },
    {
      "cell_type": "code",
      "source": [
        "#change the string input into integer\n",
        "\n",
        "student_age = int(input(\"please enter your age \"))"
      ],
      "metadata": {
        "colab": {
          "base_uri": "https://localhost:8080/"
        },
        "id": "G_-w7dD-ar_J",
        "outputId": "f4bdc495-a0f1-45b7-c067-0ccf6716f02b"
      },
      "id": "G_-w7dD-ar_J",
      "execution_count": 19,
      "outputs": [
        {
          "name": "stdout",
          "output_type": "stream",
          "text": [
            "please enter your age 50\n"
          ]
        }
      ]
    },
    {
      "cell_type": "code",
      "execution_count": 21,
      "id": "a858de10-ead7-4338-a6ac-f146c69b1443",
      "metadata": {
        "id": "a858de10-ead7-4338-a6ac-f146c69b1443",
        "outputId": "807282fc-fb33-41a8-ad69-2b87f417ceb9",
        "colab": {
          "base_uri": "https://localhost:8080/"
        }
      },
      "outputs": [
        {
          "output_type": "execute_result",
          "data": {
            "text/plain": [
              "50"
            ]
          },
          "metadata": {},
          "execution_count": 21
        }
      ],
      "source": [
        "#change the string into int after input\n",
        "\n",
        "student_age = int(student_age)\n",
        "student_age"
      ]
    },
    {
      "cell_type": "code",
      "execution_count": 22,
      "id": "a4b63c17-3d8a-4a1e-b626-f323bba2f0fc",
      "metadata": {
        "id": "a4b63c17-3d8a-4a1e-b626-f323bba2f0fc",
        "outputId": "1798c117-07dd-453b-aace-f851dd02d4d6",
        "colab": {
          "base_uri": "https://localhost:8080/"
        }
      },
      "outputs": [
        {
          "name": "stdout",
          "output_type": "stream",
          "text": [
            "please enter your age50\n"
          ]
        }
      ],
      "source": [
        "#change the string input into float\n",
        "\n",
        "student_age = float(input(\"please enter your age\"))"
      ]
    },
    {
      "cell_type": "code",
      "execution_count": 23,
      "id": "91dccb4c-7263-4c5a-89e7-a4671db251ab",
      "metadata": {
        "id": "91dccb4c-7263-4c5a-89e7-a4671db251ab",
        "outputId": "5048560c-1445-48b1-bb7c-c40b9079ff9b",
        "colab": {
          "base_uri": "https://localhost:8080/"
        }
      },
      "outputs": [
        {
          "output_type": "execute_result",
          "data": {
            "text/plain": [
              "50.0"
            ]
          },
          "metadata": {},
          "execution_count": 23
        }
      ],
      "source": [
        "student_age"
      ]
    },
    {
      "cell_type": "markdown",
      "id": "d36c2a07-0554-476e-a00e-359d9bc6a2e7",
      "metadata": {
        "id": "d36c2a07-0554-476e-a00e-359d9bc6a2e7"
      },
      "source": [
        "### List"
      ]
    },
    {
      "cell_type": "markdown",
      "source": [
        "A list in Python is an ordered, mutable collection that can hold elements of different data types, such as integers and strings. In the code shown, the list Students_age initially contains a mix of numbers and strings. The elements can be accessed using their index (e.g., Students_age[0]) and can be updated directly (e.g., changing Students_age[0] to 22). Python also supports negative indexing, where -1 refers to the last element, so Students_age[-2] accesses the second-to-last item."
      ],
      "metadata": {
        "id": "vgrPeE97oKhm"
      },
      "id": "vgrPeE97oKhm"
    },
    {
      "cell_type": "code",
      "execution_count": 25,
      "id": "6074cc7d-010c-40fe-a406-d7c023cdbb8f",
      "metadata": {
        "colab": {
          "base_uri": "https://localhost:8080/"
        },
        "id": "6074cc7d-010c-40fe-a406-d7c023cdbb8f",
        "outputId": "1eb26de8-3592-464e-b320-88852b6b1c4d"
      },
      "outputs": [
        {
          "output_type": "execute_result",
          "data": {
            "text/plain": [
              "[24, 23, 15, 14, 'Mark', 'Hello']"
            ]
          },
          "metadata": {},
          "execution_count": 25
        }
      ],
      "source": [
        "Students_age = [24,23,15,14,\"Mark\",\"Hello\"]\n",
        "Students_age"
      ]
    },
    {
      "cell_type": "code",
      "execution_count": 26,
      "id": "d26aaf5b-131b-4d3c-b061-21d1fd209bd3",
      "metadata": {
        "id": "d26aaf5b-131b-4d3c-b061-21d1fd209bd3"
      },
      "outputs": [],
      "source": [
        "#shows the first item (position 0)\n",
        "\n",
        "Students_age[0] = 22"
      ]
    },
    {
      "cell_type": "code",
      "execution_count": 27,
      "id": "5a378206-13e5-42c6-9336-6b8eea46c638",
      "metadata": {
        "id": "5a378206-13e5-42c6-9336-6b8eea46c638",
        "outputId": "5917130b-4021-4c7f-f071-0abb03e732d6",
        "colab": {
          "base_uri": "https://localhost:8080/"
        }
      },
      "outputs": [
        {
          "output_type": "execute_result",
          "data": {
            "text/plain": [
              "[22, 23, 15, 14, 'Mark', 'Hello']"
            ]
          },
          "metadata": {},
          "execution_count": 27
        }
      ],
      "source": [
        "Students_age"
      ]
    },
    {
      "cell_type": "code",
      "execution_count": 29,
      "id": "ea57750e-7356-4ff0-841d-d5c247272af7",
      "metadata": {
        "colab": {
          "base_uri": "https://localhost:8080/"
        },
        "id": "ea57750e-7356-4ff0-841d-d5c247272af7",
        "outputId": "23e389cf-3602-47ab-b6ec-b95dd87d68db"
      },
      "outputs": [
        {
          "output_type": "execute_result",
          "data": {
            "text/plain": [
              "[22, 23, 15, 14, 28, 'Hello']"
            ]
          },
          "metadata": {},
          "execution_count": 29
        }
      ],
      "source": [
        "#replace the position 4 item with 28 (list starts with 0)\n",
        "\n",
        "Students_age[4] = 28\n",
        "\n",
        "Students_age"
      ]
    },
    {
      "cell_type": "code",
      "execution_count": 30,
      "id": "0228f501-cad7-4cc3-92ff-103954b415b7",
      "metadata": {
        "colab": {
          "base_uri": "https://localhost:8080/"
        },
        "id": "0228f501-cad7-4cc3-92ff-103954b415b7",
        "outputId": "f3312f61-7af2-4b06-aa68-c9f460259532"
      },
      "outputs": [
        {
          "output_type": "execute_result",
          "data": {
            "text/plain": [
              "28"
            ]
          },
          "metadata": {},
          "execution_count": 30
        }
      ],
      "source": [
        "Students_age[-2]"
      ]
    },
    {
      "cell_type": "code",
      "execution_count": 32,
      "id": "71ea11e7-35c8-45b3-b44f-ef12677afb78",
      "metadata": {
        "id": "71ea11e7-35c8-45b3-b44f-ef12677afb78",
        "outputId": "af89cc14-8d58-45c3-de3b-6d09339a29d8",
        "colab": {
          "base_uri": "https://localhost:8080/"
        }
      },
      "outputs": [
        {
          "output_type": "execute_result",
          "data": {
            "text/plain": [
              "15"
            ]
          },
          "metadata": {},
          "execution_count": 32
        }
      ],
      "source": [
        "Students_age[2]"
      ]
    },
    {
      "cell_type": "code",
      "execution_count": 35,
      "id": "b6c9110b-9abd-479d-b1ba-6369b6471f37",
      "metadata": {
        "id": "b6c9110b-9abd-479d-b1ba-6369b6471f37"
      },
      "outputs": [],
      "source": [
        "name = [\"Alice\",\"Bob\",\"Carl\", \"Daniel\",\"Emma\"]"
      ]
    },
    {
      "cell_type": "code",
      "execution_count": 36,
      "id": "d3edac77-362b-4509-8fd4-ade2ed4dbf47",
      "metadata": {
        "id": "d3edac77-362b-4509-8fd4-ade2ed4dbf47",
        "outputId": "8c3c35f8-7c3c-4e85-ee2c-a735bc3403b9",
        "colab": {
          "base_uri": "https://localhost:8080/"
        }
      },
      "outputs": [
        {
          "output_type": "execute_result",
          "data": {
            "text/plain": [
              "['Alice', 'Bob', 'Carl', 'Daniel', 'Emma']"
            ]
          },
          "metadata": {},
          "execution_count": 36
        }
      ],
      "source": [
        "name"
      ]
    },
    {
      "cell_type": "code",
      "execution_count": 37,
      "id": "019e4a2d-b995-418d-aa65-3290ebc8df34",
      "metadata": {
        "id": "019e4a2d-b995-418d-aa65-3290ebc8df34",
        "outputId": "cf0cf9a4-e426-4397-e72b-9d2c964713d3",
        "colab": {
          "base_uri": "https://localhost:8080/",
          "height": 35
        }
      },
      "outputs": [
        {
          "output_type": "execute_result",
          "data": {
            "text/plain": [
              "'Daniel'"
            ],
            "application/vnd.google.colaboratory.intrinsic+json": {
              "type": "string"
            }
          },
          "metadata": {},
          "execution_count": 37
        }
      ],
      "source": [
        "name[-2]"
      ]
    },
    {
      "cell_type": "code",
      "execution_count": 38,
      "id": "43e8aa78-39c6-4b15-af98-157909d9d40a",
      "metadata": {
        "id": "43e8aa78-39c6-4b15-af98-157909d9d40a",
        "outputId": "8c606f24-42f7-4690-dcc8-db3024d1feb0",
        "colab": {
          "base_uri": "https://localhost:8080/",
          "height": 35
        }
      },
      "outputs": [
        {
          "output_type": "execute_result",
          "data": {
            "text/plain": [
              "'Carl'"
            ],
            "application/vnd.google.colaboratory.intrinsic+json": {
              "type": "string"
            }
          },
          "metadata": {},
          "execution_count": 38
        }
      ],
      "source": [
        "name[2]"
      ]
    },
    {
      "cell_type": "markdown",
      "source": [
        "Slicing in Python is a way to extract a portion of a sequence (like a list, string, or tuple) using a specific syntax:\n",
        "\n",
        "sequence[start:stop:step]\n",
        "\n",
        "e.g. name[0:4:1]"
      ],
      "metadata": {
        "id": "TbNINqDjqWYk"
      },
      "id": "TbNINqDjqWYk"
    },
    {
      "cell_type": "code",
      "execution_count": 40,
      "id": "b3581f9d-9380-42fc-8bf1-580facfe7612",
      "metadata": {
        "id": "b3581f9d-9380-42fc-8bf1-580facfe7612",
        "outputId": "63ed718d-a1f5-4a09-970a-88b830b7e4b2",
        "colab": {
          "base_uri": "https://localhost:8080/"
        }
      },
      "outputs": [
        {
          "output_type": "execute_result",
          "data": {
            "text/plain": [
              "['Alice', 'Carl', 'Emma']"
            ]
          },
          "metadata": {},
          "execution_count": 40
        }
      ],
      "source": [
        "# Gets every 2nd item from index 0 to 4\n",
        "\n",
        "name[0:5:2]"
      ]
    },
    {
      "cell_type": "code",
      "execution_count": 41,
      "id": "d07d6b86-a123-4812-b9ff-330e0d18268d",
      "metadata": {
        "id": "d07d6b86-a123-4812-b9ff-330e0d18268d",
        "outputId": "ec5f873d-bca6-4869-966f-3f464e227294",
        "colab": {
          "base_uri": "https://localhost:8080/"
        }
      },
      "outputs": [
        {
          "output_type": "execute_result",
          "data": {
            "text/plain": [
              "['Alice', 'Bob', 'Carl']"
            ]
          },
          "metadata": {},
          "execution_count": 41
        }
      ],
      "source": [
        "# Gets from index 0 to 2 (3 excluded)\n",
        "name[0:3]"
      ]
    },
    {
      "cell_type": "markdown",
      "id": "6cb7eb16-6183-42ff-bdc4-9a853e83edec",
      "metadata": {
        "id": "6cb7eb16-6183-42ff-bdc4-9a853e83edec"
      },
      "source": [
        "length : Numbers of elements and python code for length: len()"
      ]
    },
    {
      "cell_type": "code",
      "execution_count": 45,
      "id": "3708c74a-af01-42fc-ab5b-770fe4c6ef2a",
      "metadata": {
        "id": "3708c74a-af01-42fc-ab5b-770fe4c6ef2a",
        "outputId": "02f9c835-c851-4df2-e1fc-8adfc8aadd1c",
        "colab": {
          "base_uri": "https://localhost:8080/"
        }
      },
      "outputs": [
        {
          "output_type": "execute_result",
          "data": {
            "text/plain": [
              "5"
            ]
          },
          "metadata": {},
          "execution_count": 45
        }
      ],
      "source": [
        "len(name) #number of items in the list - name"
      ]
    },
    {
      "cell_type": "code",
      "execution_count": 49,
      "id": "5c5e122c-cd48-46c8-9757-694b38c67601",
      "metadata": {
        "id": "5c5e122c-cd48-46c8-9757-694b38c67601"
      },
      "outputs": [],
      "source": [
        "List_A = [\"A\",\"B\",\"C\",1,2,3,4]"
      ]
    },
    {
      "cell_type": "code",
      "source": [
        "len(List_A)"
      ],
      "metadata": {
        "colab": {
          "base_uri": "https://localhost:8080/"
        },
        "id": "wZ8D4KsZcsgV",
        "outputId": "34295f9b-a926-43d9-9656-769f41690c94"
      },
      "id": "wZ8D4KsZcsgV",
      "execution_count": 50,
      "outputs": [
        {
          "output_type": "execute_result",
          "data": {
            "text/plain": [
              "7"
            ]
          },
          "metadata": {},
          "execution_count": 50
        }
      ]
    },
    {
      "cell_type": "code",
      "source": [
        "List_A[1]"
      ],
      "metadata": {
        "colab": {
          "base_uri": "https://localhost:8080/",
          "height": 35
        },
        "id": "MKwibdL8cwRf",
        "outputId": "2f876f2b-e248-4409-93a9-00bc78d27212"
      },
      "id": "MKwibdL8cwRf",
      "execution_count": 51,
      "outputs": [
        {
          "output_type": "execute_result",
          "data": {
            "text/plain": [
              "'B'"
            ],
            "application/vnd.google.colaboratory.intrinsic+json": {
              "type": "string"
            }
          },
          "metadata": {},
          "execution_count": 51
        }
      ]
    },
    {
      "cell_type": "code",
      "execution_count": 53,
      "id": "21614f9f-9080-424c-881d-056ec95d1189",
      "metadata": {
        "id": "21614f9f-9080-424c-881d-056ec95d1189",
        "outputId": "27229616-8bf9-4730-c60f-0a5a2b60d117",
        "colab": {
          "base_uri": "https://localhost:8080/"
        }
      },
      "outputs": [
        {
          "output_type": "execute_result",
          "data": {
            "text/plain": [
              "['B', 'C', 1, 2, 3]"
            ]
          },
          "metadata": {},
          "execution_count": 53
        }
      ],
      "source": [
        "List_A[1:6]"
      ]
    },
    {
      "cell_type": "markdown",
      "source": [
        "# Mathematical Operations"
      ],
      "metadata": {
        "id": "Hn09ab-orzOP"
      },
      "id": "Hn09ab-orzOP"
    },
    {
      "cell_type": "markdown",
      "id": "e1d2d1ee-f04d-4630-a62d-7e933ba3c03f",
      "metadata": {
        "id": "e1d2d1ee-f04d-4630-a62d-7e933ba3c03f"
      },
      "source": [
        "Addition"
      ]
    },
    {
      "cell_type": "code",
      "execution_count": 57,
      "id": "5a323db1-8059-415d-a505-803b0dcf6b60",
      "metadata": {
        "id": "5a323db1-8059-415d-a505-803b0dcf6b60",
        "outputId": "2ca40658-72b1-4133-ccef-827e7dd9c3be",
        "colab": {
          "base_uri": "https://localhost:8080/"
        }
      },
      "outputs": [
        {
          "output_type": "execute_result",
          "data": {
            "text/plain": [
              "7"
            ]
          },
          "metadata": {},
          "execution_count": 57
        }
      ],
      "source": [
        "2+5"
      ]
    },
    {
      "cell_type": "markdown",
      "id": "968e27a7-fcdb-4fb7-83ef-bc7e2cf50e1c",
      "metadata": {
        "id": "968e27a7-fcdb-4fb7-83ef-bc7e2cf50e1c"
      },
      "source": [
        "Subtraction"
      ]
    },
    {
      "cell_type": "code",
      "execution_count": 58,
      "id": "9fee70e9-8205-4747-af8b-7fcf497dde27",
      "metadata": {
        "id": "9fee70e9-8205-4747-af8b-7fcf497dde27",
        "outputId": "cd21ff4a-5b8f-4b08-870f-ecab8ab28bd9",
        "colab": {
          "base_uri": "https://localhost:8080/"
        }
      },
      "outputs": [
        {
          "output_type": "execute_result",
          "data": {
            "text/plain": [
              "-3"
            ]
          },
          "metadata": {},
          "execution_count": 58
        }
      ],
      "source": [
        "2-5"
      ]
    },
    {
      "cell_type": "markdown",
      "id": "944fedad-99ab-499f-9da8-8002b6d9fdfd",
      "metadata": {
        "id": "944fedad-99ab-499f-9da8-8002b6d9fdfd"
      },
      "source": [
        "Multiplication"
      ]
    },
    {
      "cell_type": "code",
      "execution_count": 59,
      "id": "8f61630f-e70a-4901-9d82-07fb461d3315",
      "metadata": {
        "id": "8f61630f-e70a-4901-9d82-07fb461d3315",
        "outputId": "6f6eeb8c-b44a-4679-cd30-c43581253aa6",
        "colab": {
          "base_uri": "https://localhost:8080/"
        }
      },
      "outputs": [
        {
          "output_type": "execute_result",
          "data": {
            "text/plain": [
              "6"
            ]
          },
          "metadata": {},
          "execution_count": 59
        }
      ],
      "source": [
        "2*3"
      ]
    },
    {
      "cell_type": "markdown",
      "id": "39d6ed2b-7ba1-414e-b672-e46cfadacd54",
      "metadata": {
        "id": "39d6ed2b-7ba1-414e-b672-e46cfadacd54"
      },
      "source": [
        "Division"
      ]
    },
    {
      "cell_type": "code",
      "execution_count": 60,
      "id": "c548f92f-9b2f-416a-9b5f-29d6ff982a91",
      "metadata": {
        "id": "c548f92f-9b2f-416a-9b5f-29d6ff982a91",
        "outputId": "7d8624b6-4536-448e-a930-9747e5181cb9",
        "colab": {
          "base_uri": "https://localhost:8080/"
        }
      },
      "outputs": [
        {
          "output_type": "execute_result",
          "data": {
            "text/plain": [
              "3.0"
            ]
          },
          "metadata": {},
          "execution_count": 60
        }
      ],
      "source": [
        "6/2"
      ]
    },
    {
      "cell_type": "markdown",
      "id": "f7cfc0ca-39f3-4f30-a573-0a6f9177f0c6",
      "metadata": {
        "id": "f7cfc0ca-39f3-4f30-a573-0a6f9177f0c6"
      },
      "source": [
        "Exponentiation"
      ]
    },
    {
      "cell_type": "code",
      "execution_count": 61,
      "id": "14ce8e78-288f-4146-b881-7c5db734d326",
      "metadata": {
        "id": "14ce8e78-288f-4146-b881-7c5db734d326",
        "outputId": "9a4629a7-9848-43af-a117-f1c025990a95",
        "colab": {
          "base_uri": "https://localhost:8080/"
        }
      },
      "outputs": [
        {
          "output_type": "execute_result",
          "data": {
            "text/plain": [
              "8"
            ]
          },
          "metadata": {},
          "execution_count": 61
        }
      ],
      "source": [
        "2**3"
      ]
    },
    {
      "cell_type": "markdown",
      "id": "a1181da3-843d-41e0-aab4-8bee7a410c51",
      "metadata": {
        "id": "a1181da3-843d-41e0-aab4-8bee7a410c51"
      },
      "source": [
        "Modulus"
      ]
    },
    {
      "cell_type": "code",
      "execution_count": 62,
      "id": "d72acb58-4c45-4695-beeb-11e3d3392780",
      "metadata": {
        "id": "d72acb58-4c45-4695-beeb-11e3d3392780",
        "outputId": "684ff0ed-bd15-4668-d3a0-ac954bb7ca6e",
        "colab": {
          "base_uri": "https://localhost:8080/"
        }
      },
      "outputs": [
        {
          "output_type": "execute_result",
          "data": {
            "text/plain": [
              "1"
            ]
          },
          "metadata": {},
          "execution_count": 62
        }
      ],
      "source": [
        "7%2\n",
        "\n",
        "#leftover after division"
      ]
    },
    {
      "cell_type": "markdown",
      "source": [
        "Basic arithmetic operations and variable use in Python"
      ],
      "metadata": {
        "id": "K-f5MantsA3_"
      },
      "id": "K-f5MantsA3_"
    },
    {
      "cell_type": "code",
      "execution_count": 63,
      "id": "79d420d9-40fb-48e0-8cca-fb4c4a0c3942",
      "metadata": {
        "id": "79d420d9-40fb-48e0-8cca-fb4c4a0c3942"
      },
      "outputs": [],
      "source": [
        "x = 3"
      ]
    },
    {
      "cell_type": "code",
      "execution_count": 64,
      "id": "b24e6404-9d1f-4fc0-9d0e-2224a9a2109c",
      "metadata": {
        "id": "b24e6404-9d1f-4fc0-9d0e-2224a9a2109c",
        "outputId": "d0870b0d-a07b-40fd-da99-0bcfcdf72d07",
        "colab": {
          "base_uri": "https://localhost:8080/"
        }
      },
      "outputs": [
        {
          "output_type": "execute_result",
          "data": {
            "text/plain": [
              "15"
            ]
          },
          "metadata": {},
          "execution_count": 64
        }
      ],
      "source": [
        "4*x +3"
      ]
    },
    {
      "cell_type": "code",
      "execution_count": 65,
      "id": "3ebca631-3c70-4105-b651-aa7f01ae37bb",
      "metadata": {
        "id": "3ebca631-3c70-4105-b651-aa7f01ae37bb",
        "outputId": "21125ee1-1dc8-4723-bec4-00dc5141ffc5",
        "colab": {
          "base_uri": "https://localhost:8080/"
        }
      },
      "outputs": [
        {
          "output_type": "execute_result",
          "data": {
            "text/plain": [
              "17"
            ]
          },
          "metadata": {},
          "execution_count": 65
        }
      ],
      "source": [
        "4*3+5"
      ]
    },
    {
      "cell_type": "code",
      "execution_count": 66,
      "id": "4469b818-97cc-406a-b159-834ffe8c26b7",
      "metadata": {
        "id": "4469b818-97cc-406a-b159-834ffe8c26b7",
        "outputId": "280158c1-6f08-4aa9-f8b4-bf5fc3b564c9",
        "colab": {
          "base_uri": "https://localhost:8080/"
        }
      },
      "outputs": [
        {
          "output_type": "execute_result",
          "data": {
            "text/plain": [
              "2.0"
            ]
          },
          "metadata": {},
          "execution_count": 66
        }
      ],
      "source": [
        "4**(1/2)"
      ]
    },
    {
      "cell_type": "code",
      "execution_count": 67,
      "id": "af3fb647-dd52-48c0-a5d1-bc2020404a83",
      "metadata": {
        "id": "af3fb647-dd52-48c0-a5d1-bc2020404a83"
      },
      "outputs": [],
      "source": [
        "x = 8"
      ]
    },
    {
      "cell_type": "code",
      "execution_count": 68,
      "id": "944de5a1-2a05-4d44-978a-266828c5fa7c",
      "metadata": {
        "id": "944de5a1-2a05-4d44-978a-266828c5fa7c",
        "outputId": "42868e1a-ea47-4584-f849-04b8c5c23808",
        "colab": {
          "base_uri": "https://localhost:8080/"
        }
      },
      "outputs": [
        {
          "output_type": "execute_result",
          "data": {
            "text/plain": [
              "35"
            ]
          },
          "metadata": {},
          "execution_count": 68
        }
      ],
      "source": [
        "4*x+3"
      ]
    },
    {
      "cell_type": "markdown",
      "source": [
        "# Use of Math library\n",
        "\n",
        "The math library in Python provides a wide range of mathematical functions, including operations for factorials, powers, square roots, and more. It must be imported before use with import math."
      ],
      "metadata": {
        "id": "XjMFBh7nsXOn"
      },
      "id": "XjMFBh7nsXOn"
    },
    {
      "cell_type": "code",
      "execution_count": 69,
      "id": "b85ff6f5-5e42-4ceb-98b7-0791f3b8837d",
      "metadata": {
        "id": "b85ff6f5-5e42-4ceb-98b7-0791f3b8837d"
      },
      "outputs": [],
      "source": [
        "import math"
      ]
    },
    {
      "cell_type": "code",
      "execution_count": 70,
      "id": "69b1044f-3daf-4bfe-8374-aa26ed6a0488",
      "metadata": {
        "colab": {
          "base_uri": "https://localhost:8080/"
        },
        "id": "69b1044f-3daf-4bfe-8374-aa26ed6a0488",
        "outputId": "32702f7c-ffa1-47ac-e911-f3b27005b29d"
      },
      "outputs": [
        {
          "output_type": "stream",
          "name": "stdout",
          "text": [
            "6 24\n"
          ]
        }
      ],
      "source": [
        "a=math.factorial(3)\n",
        "\n",
        "#3*2*1\n",
        "\n",
        "b=math.factorial(4)\n",
        "\n",
        "print (a, b)"
      ]
    },
    {
      "cell_type": "code",
      "execution_count": 71,
      "id": "e4df9574-b68a-48dc-8523-d9af04de46c2",
      "metadata": {
        "colab": {
          "base_uri": "https://localhost:8080/"
        },
        "id": "e4df9574-b68a-48dc-8523-d9af04de46c2",
        "outputId": "f514bf51-7282-45ca-9d64-f211009e6708"
      },
      "outputs": [
        {
          "output_type": "execute_result",
          "data": {
            "text/plain": [
              "5.0"
            ]
          },
          "metadata": {},
          "execution_count": 71
        }
      ],
      "source": [
        "math.fabs(5)\n",
        "\n",
        "#absolute number"
      ]
    },
    {
      "cell_type": "code",
      "source": [
        "math.fabs(-5)\n"
      ],
      "metadata": {
        "colab": {
          "base_uri": "https://localhost:8080/"
        },
        "id": "YiYemx9td2oA",
        "outputId": "c68d554e-a56f-4d73-8f55-cbf415a0a1c8"
      },
      "id": "YiYemx9td2oA",
      "execution_count": 72,
      "outputs": [
        {
          "output_type": "execute_result",
          "data": {
            "text/plain": [
              "5.0"
            ]
          },
          "metadata": {},
          "execution_count": 72
        }
      ]
    },
    {
      "cell_type": "code",
      "execution_count": 73,
      "id": "3f187e4a-af65-43b8-a373-7c5d011415de",
      "metadata": {
        "id": "3f187e4a-af65-43b8-a373-7c5d011415de",
        "outputId": "8cb9e7df-6051-42c9-9efc-1be9047beaf1",
        "colab": {
          "base_uri": "https://localhost:8080/"
        }
      },
      "outputs": [
        {
          "output_type": "execute_result",
          "data": {
            "text/plain": [
              "46656.0"
            ]
          },
          "metadata": {},
          "execution_count": 73
        }
      ],
      "source": [
        "math.pow(6,6)"
      ]
    },
    {
      "cell_type": "code",
      "source": [
        "math.pow(3, 4)\n",
        "\n",
        "#3 power 4"
      ],
      "metadata": {
        "colab": {
          "base_uri": "https://localhost:8080/"
        },
        "id": "AfUZS3m2d6O0",
        "outputId": "c431cbba-d98d-468e-9ee0-65f14c04e909"
      },
      "id": "AfUZS3m2d6O0",
      "execution_count": 74,
      "outputs": [
        {
          "output_type": "execute_result",
          "data": {
            "text/plain": [
              "81.0"
            ]
          },
          "metadata": {},
          "execution_count": 74
        }
      ]
    },
    {
      "cell_type": "code",
      "execution_count": 75,
      "id": "81ca937a-97cf-415f-8d72-67e8b290fbda",
      "metadata": {
        "id": "81ca937a-97cf-415f-8d72-67e8b290fbda",
        "outputId": "81a25aaf-4e60-4a61-d2d0-e405437de42b",
        "colab": {
          "base_uri": "https://localhost:8080/"
        }
      },
      "outputs": [
        {
          "output_type": "execute_result",
          "data": {
            "text/plain": [
              "range(0, 11)"
            ]
          },
          "metadata": {},
          "execution_count": 75
        }
      ],
      "source": [
        "range(11)"
      ]
    }
  ],
  "metadata": {
    "kernelspec": {
      "display_name": "Python 3 (ipykernel)",
      "language": "python",
      "name": "python3"
    },
    "language_info": {
      "codemirror_mode": {
        "name": "ipython",
        "version": 3
      },
      "file_extension": ".py",
      "mimetype": "text/x-python",
      "name": "python",
      "nbconvert_exporter": "python",
      "pygments_lexer": "ipython3",
      "version": "3.9.13"
    },
    "colab": {
      "provenance": [],
      "include_colab_link": true
    }
  },
  "nbformat": 4,
  "nbformat_minor": 5
}
