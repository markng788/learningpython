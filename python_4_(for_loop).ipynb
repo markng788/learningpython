{
  "cells": [
    {
      "cell_type": "markdown",
      "metadata": {
        "id": "view-in-github",
        "colab_type": "text"
      },
      "source": [
        "<a href=\"https://colab.research.google.com/github/markng788/learningpython/blob/main/python_4_(for_loop).ipynb\" target=\"_parent\"><img src=\"https://colab.research.google.com/assets/colab-badge.svg\" alt=\"Open In Colab\"/></a>"
      ]
    },
    {
      "cell_type": "markdown",
      "source": [
        "## Introduction to for Loop in Python:\n",
        "\n",
        "A for loop in Python is used to iterate over a sequence (such as a string, list, or range) and execute a block of code for each item in the sequence. It’s commonly used when you want to repeat an action multiple times, once for each element in a collection."
      ],
      "metadata": {
        "id": "QE_95vVq0E5r"
      },
      "id": "QE_95vVq0E5r"
    },
    {
      "cell_type": "code",
      "execution_count": 2,
      "id": "9f1b181f-d903-4047-99b1-b401330cf686",
      "metadata": {
        "id": "9f1b181f-d903-4047-99b1-b401330cf686"
      },
      "outputs": [],
      "source": [
        "name = \"Spencer\""
      ]
    },
    {
      "cell_type": "code",
      "execution_count": 3,
      "id": "c110152b-6694-4c4c-b0d3-9603c86d7638",
      "metadata": {
        "colab": {
          "base_uri": "https://localhost:8080/",
          "height": 35
        },
        "collapsed": true,
        "id": "c110152b-6694-4c4c-b0d3-9603c86d7638",
        "outputId": "39a24fd0-6802-4433-832f-1b8f66d7a678"
      },
      "outputs": [
        {
          "output_type": "execute_result",
          "data": {
            "text/plain": [
              "'e'"
            ],
            "application/vnd.google.colaboratory.intrinsic+json": {
              "type": "string"
            }
          },
          "metadata": {},
          "execution_count": 3
        }
      ],
      "source": [
        "# Accesses the character at index 2 of the string\n",
        "\n",
        "name[2]"
      ]
    },
    {
      "cell_type": "code",
      "execution_count": 4,
      "id": "5a5baf77-272e-4875-b69c-8fc52be42fb6",
      "metadata": {
        "tags": [],
        "colab": {
          "base_uri": "https://localhost:8080/"
        },
        "collapsed": true,
        "id": "5a5baf77-272e-4875-b69c-8fc52be42fb6",
        "outputId": "f02b8da9-0fbf-47c9-eb8f-ddcd80b5be21"
      },
      "outputs": [
        {
          "output_type": "stream",
          "name": "stdout",
          "text": [
            "S\n",
            "p\n",
            "e\n",
            "n\n",
            "c\n",
            "e\n",
            "r\n"
          ]
        }
      ],
      "source": [
        "# Iterates over each character in the string\n",
        "\n",
        "for e in name:\n",
        "    print(e)"
      ]
    },
    {
      "cell_type": "code",
      "execution_count": 5,
      "id": "5a4cee1c-e073-46ab-a0c0-8828761e7c65",
      "metadata": {
        "id": "5a4cee1c-e073-46ab-a0c0-8828761e7c65"
      },
      "outputs": [],
      "source": [
        "# create a list with even numbers\n",
        "\n",
        "list1 = [4, 6, 8, 10, 12, 14, 16, 18, 20, 22, 24, 26, 28]"
      ]
    },
    {
      "cell_type": "code",
      "execution_count": 6,
      "id": "eddac2b0-2687-4174-8e18-6c22a8d94795",
      "metadata": {
        "tags": [],
        "colab": {
          "base_uri": "https://localhost:8080/"
        },
        "collapsed": true,
        "id": "eddac2b0-2687-4174-8e18-6c22a8d94795",
        "outputId": "e360eafd-de58-4219-994c-a496764a5235"
      },
      "outputs": [
        {
          "output_type": "stream",
          "name": "stdout",
          "text": [
            "4\n",
            "6\n",
            "8\n",
            "10\n",
            "12\n",
            "14\n",
            "16\n",
            "18\n",
            "20\n",
            "22\n",
            "24\n",
            "26\n",
            "28\n"
          ]
        }
      ],
      "source": [
        "# Loops through the list and prints each number.\n",
        "\n",
        "for item in list1:\n",
        "    print(item)"
      ]
    },
    {
      "cell_type": "code",
      "execution_count": 7,
      "id": "caed30bd-4136-4b6b-9bec-b5fe4699caac",
      "metadata": {
        "colab": {
          "base_uri": "https://localhost:8080/"
        },
        "id": "caed30bd-4136-4b6b-9bec-b5fe4699caac",
        "outputId": "6f602bdc-e54e-45dc-9827-a0635cdc7558"
      },
      "outputs": [
        {
          "output_type": "execute_result",
          "data": {
            "text/plain": [
              "range(0, 10)"
            ]
          },
          "metadata": {},
          "execution_count": 7
        }
      ],
      "source": [
        "#create a range object from 0 to 9\n",
        "\n",
        "range(10)"
      ]
    },
    {
      "cell_type": "code",
      "execution_count": 8,
      "id": "f4c2db72-ee3f-4377-b22d-a1450bd942fe",
      "metadata": {
        "colab": {
          "base_uri": "https://localhost:8080/"
        },
        "id": "f4c2db72-ee3f-4377-b22d-a1450bd942fe",
        "outputId": "1d479e66-bb6b-42ad-84cb-d4c7ecdfbeb2"
      },
      "outputs": [
        {
          "output_type": "stream",
          "name": "stdout",
          "text": [
            "0\n",
            "1\n",
            "2\n",
            "3\n",
            "4\n",
            "5\n",
            "6\n",
            "7\n",
            "8\n",
            "9\n"
          ]
        }
      ],
      "source": [
        "#Iterates through numbers 0 to 9 and prints them\n",
        "# \"item\" can be anything (e.g. replaced by abc)\n",
        "\n",
        "for item in range(10):\n",
        "    print(item)"
      ]
    },
    {
      "cell_type": "code",
      "source": [
        "for abc in range(10):\n",
        "    print(abc)"
      ],
      "metadata": {
        "colab": {
          "base_uri": "https://localhost:8080/"
        },
        "id": "sFnPbCjVowFE",
        "outputId": "6165084f-2eff-46ab-9b9e-c0fb7f2b40a8"
      },
      "id": "sFnPbCjVowFE",
      "execution_count": 9,
      "outputs": [
        {
          "output_type": "stream",
          "name": "stdout",
          "text": [
            "0\n",
            "1\n",
            "2\n",
            "3\n",
            "4\n",
            "5\n",
            "6\n",
            "7\n",
            "8\n",
            "9\n"
          ]
        }
      ]
    },
    {
      "cell_type": "code",
      "execution_count": 11,
      "id": "7d66b496-2009-4968-89f4-8c5b03fa8c77",
      "metadata": {
        "tags": [],
        "id": "7d66b496-2009-4968-89f4-8c5b03fa8c77",
        "outputId": "33ea6ea6-85bd-4e71-e27f-c47bf52b73c2",
        "colab": {
          "base_uri": "https://localhost:8080/"
        }
      },
      "outputs": [
        {
          "output_type": "stream",
          "name": "stdout",
          "text": [
            "2\n",
            "4\n",
            "6\n",
            "8\n",
            "10\n",
            "12\n",
            "14\n",
            "16\n",
            "18\n",
            "20\n",
            "22\n",
            "24\n",
            "26\n",
            "28\n",
            "30\n"
          ]
        }
      ],
      "source": [
        "# range 2 to 31, with step 2\n",
        "\n",
        "for i in range(2,31,2):\n",
        "    print(i)"
      ]
    },
    {
      "cell_type": "code",
      "execution_count": 12,
      "id": "ab0fad76-b4d3-4a62-b3ec-92f4da76dc69",
      "metadata": {
        "id": "ab0fad76-b4d3-4a62-b3ec-92f4da76dc69",
        "outputId": "45f9e613-a176-4a67-da76-05c7cc0b9658",
        "colab": {
          "base_uri": "https://localhost:8080/"
        }
      },
      "outputs": [
        {
          "output_type": "stream",
          "name": "stdout",
          "text": [
            "0\n",
            "3\n",
            "6\n",
            "9\n"
          ]
        }
      ],
      "source": [
        "for  e in range(0,10,3):\n",
        "    print(e)"
      ]
    },
    {
      "cell_type": "code",
      "execution_count": 13,
      "id": "683141ed-6998-4a20-b7d1-34c4206277bf",
      "metadata": {
        "id": "683141ed-6998-4a20-b7d1-34c4206277bf",
        "outputId": "900925d6-b9dc-4dfb-de0e-aad05fa748ef",
        "colab": {
          "base_uri": "https://localhost:8080/"
        }
      },
      "outputs": [
        {
          "output_type": "stream",
          "name": "stdout",
          "text": [
            "1\n",
            "2\n",
            "3\n",
            "4\n",
            "5\n",
            "6\n",
            "7\n",
            "8\n",
            "9\n",
            "10\n"
          ]
        }
      ],
      "source": [
        "# Print first 10 natural numbers - range 1 to 11 (11 excluded), with step 1\n",
        "\n",
        "for i in range(1,11):\n",
        "    print(i)"
      ]
    },
    {
      "cell_type": "code",
      "execution_count": 15,
      "id": "90812cc4-cd34-497e-8dc1-d38df4f19c6c",
      "metadata": {
        "id": "90812cc4-cd34-497e-8dc1-d38df4f19c6c",
        "outputId": "d4e16bfc-ac8a-4f44-e39e-15070bd88a42",
        "colab": {
          "base_uri": "https://localhost:8080/"
        }
      },
      "outputs": [
        {
          "output_type": "stream",
          "name": "stdout",
          "text": [
            "1\n",
            "3\n",
            "5\n",
            "7\n",
            "9\n",
            "11\n",
            "13\n",
            "15\n",
            "17\n",
            "19\n"
          ]
        }
      ],
      "source": [
        "# Print first ten even numbers\n",
        "\n",
        "for i in range(1,21,2):\n",
        "    print(i)"
      ]
    },
    {
      "cell_type": "code",
      "execution_count": 16,
      "id": "86b2e609-fd52-4e70-b71a-061b5dbae38b",
      "metadata": {
        "id": "86b2e609-fd52-4e70-b71a-061b5dbae38b",
        "outputId": "2f72837a-e553-4fc1-9d55-d562c53fc533",
        "colab": {
          "base_uri": "https://localhost:8080/"
        }
      },
      "outputs": [
        {
          "output_type": "stream",
          "name": "stdout",
          "text": [
            "1\n",
            "3\n",
            "5\n",
            "7\n",
            "9\n",
            "11\n",
            "13\n",
            "15\n",
            "17\n",
            "19\n"
          ]
        }
      ],
      "source": [
        "# Print first ten odd numbers\n",
        "\n",
        "for i in range(1,20,2):\n",
        "    print(i)"
      ]
    },
    {
      "cell_type": "code",
      "execution_count": 17,
      "id": "cd0ba35b-ccb1-43ef-927a-e58c2d2b67df",
      "metadata": {
        "id": "cd0ba35b-ccb1-43ef-927a-e58c2d2b67df",
        "outputId": "01793888-e8b8-4567-ea15-0158f8cd12b4",
        "colab": {
          "base_uri": "https://localhost:8080/"
        }
      },
      "outputs": [
        {
          "output_type": "stream",
          "name": "stdout",
          "text": [
            "2\n",
            "3\n",
            "4\n",
            "5\n"
          ]
        }
      ],
      "source": [
        "# Create a sequence of numbers from 2 to 5, and print each item in the sequence:\n",
        "\n",
        "for i in range(2,6,1):\n",
        "    print(i)"
      ]
    },
    {
      "cell_type": "code",
      "execution_count": null,
      "id": "1027febd-e886-42bb-a081-14ba797edc4c",
      "metadata": {
        "id": "1027febd-e886-42bb-a081-14ba797edc4c",
        "outputId": "da1fc85c-d821-4ba7-8ba3-67992339f1ba"
      },
      "outputs": [
        {
          "name": "stdout",
          "output_type": "stream",
          "text": [
            "18\n",
            "16\n",
            "14\n",
            "12\n",
            "10\n",
            "8\n",
            "6\n",
            "4\n",
            "2\n",
            "0\n"
          ]
        }
      ],
      "source": [
        "# Print first 10 even numbers in reverse order\n",
        "\n",
        "for i in range(18,-1,-2):\n",
        "    print(i)"
      ]
    },
    {
      "cell_type": "markdown",
      "id": "13997f1a-f52c-448c-943d-4ab4775f8e28",
      "metadata": {
        "id": "13997f1a-f52c-448c-943d-4ab4775f8e28"
      },
      "source": [
        "To find the factorial of a number."
      ]
    },
    {
      "cell_type": "markdown",
      "id": "706da125-8181-4bcd-8b23-d3266a31fbe5",
      "metadata": {
        "id": "706da125-8181-4bcd-8b23-d3266a31fbe5"
      },
      "source": [
        "5! = 5*4*3*2*1 = 120\n",
        "4! = 4*3*2*1 = 24\n",
        "3! = 3*2*1= 6\n",
        "2!= 2*1 = 2\n",
        "1! = 1\n",
        "0! = 1\n",
        "6! = 6*5*4*3*2*1"
      ]
    },
    {
      "cell_type": "code",
      "execution_count": 18,
      "id": "8f547fcf-f2d5-4af0-83f0-44486d313a9a",
      "metadata": {
        "id": "8f547fcf-f2d5-4af0-83f0-44486d313a9a",
        "outputId": "98f96cb8-b713-4e13-e106-0ac53348cd71",
        "colab": {
          "base_uri": "https://localhost:8080/"
        }
      },
      "outputs": [
        {
          "output_type": "stream",
          "name": "stdout",
          "text": [
            "please enter the number5\n",
            "120\n"
          ]
        }
      ],
      "source": [
        "number = int(input(\"please enter the number: \"))\n",
        "factorial = 1\n",
        "for i in range(1,number + 1):\n",
        "    factorial = factorial * i\n",
        "print(factorial)"
      ]
    }
  ],
  "metadata": {
    "kernelspec": {
      "display_name": "Python 3 (ipykernel)",
      "language": "python",
      "name": "python3"
    },
    "language_info": {
      "codemirror_mode": {
        "name": "ipython",
        "version": 3
      },
      "file_extension": ".py",
      "mimetype": "text/x-python",
      "name": "python",
      "nbconvert_exporter": "python",
      "pygments_lexer": "ipython3",
      "version": "3.9.13"
    },
    "colab": {
      "provenance": [],
      "include_colab_link": true
    }
  },
  "nbformat": 4,
  "nbformat_minor": 5
}