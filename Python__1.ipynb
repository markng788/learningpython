{
  "cells": [
    {
      "cell_type": "markdown",
      "metadata": {
        "id": "view-in-github",
        "colab_type": "text"
      },
      "source": [
        "<a href=\"https://colab.research.google.com/github/markng788/learningpython/blob/main/Python__1.ipynb\" target=\"_parent\"><img src=\"https://colab.research.google.com/assets/colab-badge.svg\" alt=\"Open In Colab\"/></a>"
      ]
    },
    {
      "cell_type": "markdown",
      "id": "a9ebd812-de5c-4ddf-9be1-b7914c5a2ee1",
      "metadata": {
        "id": "a9ebd812-de5c-4ddf-9be1-b7914c5a2ee1"
      },
      "source": [
        "#### String Literals : A string literal is a sequence of characters enclosed in a single or double quotations marks."
      ]
    },
    {
      "cell_type": "code",
      "execution_count": null,
      "id": "3012226b-6649-4e61-9543-6158189e59ab",
      "metadata": {
        "id": "3012226b-6649-4e61-9543-6158189e59ab"
      },
      "outputs": [],
      "source": [
        "name = 'jasdeep'"
      ]
    },
    {
      "cell_type": "code",
      "execution_count": null,
      "id": "6eca50de-b654-4606-a16b-8f0b3e1e1eca",
      "metadata": {
        "id": "6eca50de-b654-4606-a16b-8f0b3e1e1eca",
        "outputId": "783ebc0f-f810-4976-e035-87eb98aa459f"
      },
      "outputs": [
        {
          "data": {
            "text/plain": [
              "'jasdeep'"
            ]
          },
          "execution_count": 5,
          "metadata": {},
          "output_type": "execute_result"
        }
      ],
      "source": [
        "name"
      ]
    },
    {
      "cell_type": "code",
      "execution_count": null,
      "id": "1812bbac-b37a-43b3-99d1-f71d751bde7a",
      "metadata": {
        "id": "1812bbac-b37a-43b3-99d1-f71d751bde7a",
        "outputId": "c73c8597-500f-4d79-a08e-21fc3ef7b1d4"
      },
      "outputs": [
        {
          "data": {
            "text/plain": [
              "'Hello'"
            ]
          },
          "execution_count": 3,
          "metadata": {},
          "output_type": "execute_result"
        }
      ],
      "source": [
        "string = 'Hello'\n",
        "string"
      ]
    },
    {
      "cell_type": "code",
      "execution_count": null,
      "id": "ef6fa254-44cd-49cb-9f55-182b7bee4922",
      "metadata": {
        "id": "ef6fa254-44cd-49cb-9f55-182b7bee4922",
        "outputId": "d32fbb8e-316b-46be-acba-f6d157f444ee"
      },
      "outputs": [
        {
          "data": {
            "text/plain": [
              "'Faith Fabiyi'"
            ]
          },
          "execution_count": 3,
          "metadata": {},
          "output_type": "execute_result"
        }
      ],
      "source": [
        "A = \"Faith Fabiyi\"\n",
        "A"
      ]
    },
    {
      "cell_type": "code",
      "source": [
        "B = float(24)\n",
        "B"
      ],
      "metadata": {
        "colab": {
          "base_uri": "https://localhost:8080/"
        },
        "id": "R8nR0iQfY7xr",
        "outputId": "c3398a3c-b773-4e7f-81ca-906a1c17615e"
      },
      "id": "R8nR0iQfY7xr",
      "execution_count": null,
      "outputs": [
        {
          "output_type": "execute_result",
          "data": {
            "text/plain": [
              "24.0"
            ]
          },
          "metadata": {},
          "execution_count": 2
        }
      ]
    },
    {
      "cell_type": "code",
      "execution_count": null,
      "id": "cba99c98-7aa4-4852-9b32-be20e5592567",
      "metadata": {
        "id": "cba99c98-7aa4-4852-9b32-be20e5592567"
      },
      "outputs": [],
      "source": [
        "B = int(float(24))"
      ]
    },
    {
      "cell_type": "code",
      "execution_count": null,
      "id": "f8bd765b-8752-4e48-8e78-ca2a0b3b21a1",
      "metadata": {
        "id": "f8bd765b-8752-4e48-8e78-ca2a0b3b21a1",
        "outputId": "7d9dcc66-51a9-4230-dfcc-2d8399858889"
      },
      "outputs": [
        {
          "data": {
            "text/plain": [
              "24"
            ]
          },
          "execution_count": 11,
          "metadata": {},
          "output_type": "execute_result"
        }
      ],
      "source": [
        "B"
      ]
    },
    {
      "cell_type": "code",
      "execution_count": null,
      "id": "e5fcc128-3fa8-4458-992c-c6b3ddc6e87d",
      "metadata": {
        "id": "e5fcc128-3fa8-4458-992c-c6b3ddc6e87d",
        "outputId": "eb383849-7170-47f7-9be9-9da33af080aa"
      },
      "outputs": [
        {
          "data": {
            "text/plain": [
              "26"
            ]
          },
          "execution_count": 4,
          "metadata": {},
          "output_type": "execute_result"
        }
      ],
      "source": [
        "B = int(26)\n",
        "B"
      ]
    },
    {
      "cell_type": "code",
      "execution_count": null,
      "id": "90eb085c-301e-4de9-8f23-fc0019c891f6",
      "metadata": {
        "id": "90eb085c-301e-4de9-8f23-fc0019c891f6",
        "outputId": "b3a4d166-91c0-4e22-e95c-a4d750b1350a"
      },
      "outputs": [
        {
          "data": {
            "text/plain": [
              "26.0"
            ]
          },
          "execution_count": 5,
          "metadata": {},
          "output_type": "execute_result"
        }
      ],
      "source": [
        "B = float(26)\n",
        "B"
      ]
    },
    {
      "cell_type": "code",
      "execution_count": null,
      "id": "d1f19d59-8e72-4e76-8b54-aacc863e87a9",
      "metadata": {
        "id": "d1f19d59-8e72-4e76-8b54-aacc863e87a9",
        "outputId": "9c65580f-3801-43e7-cfbb-3d39040de405"
      },
      "outputs": [
        {
          "data": {
            "text/plain": [
              "9.0"
            ]
          },
          "execution_count": 10,
          "metadata": {},
          "output_type": "execute_result"
        }
      ],
      "source": [
        "B"
      ]
    },
    {
      "cell_type": "code",
      "source": [
        "input()\n",
        "\n",
        "#enter information as string - so need to change to int or float for calculation"
      ],
      "metadata": {
        "colab": {
          "base_uri": "https://localhost:8080/",
          "height": 53
        },
        "id": "bdmKjSx2aGq3",
        "outputId": "f129df18-53c2-4cd4-b428-d465c47fd83a"
      },
      "id": "bdmKjSx2aGq3",
      "execution_count": null,
      "outputs": [
        {
          "name": "stdout",
          "output_type": "stream",
          "text": [
            "25\n"
          ]
        },
        {
          "output_type": "execute_result",
          "data": {
            "text/plain": [
              "'25'"
            ],
            "application/vnd.google.colaboratory.intrinsic+json": {
              "type": "string"
            }
          },
          "metadata": {},
          "execution_count": 3
        }
      ]
    },
    {
      "cell_type": "code",
      "source": [
        "input(\"please enter your name: \")\n"
      ],
      "metadata": {
        "colab": {
          "base_uri": "https://localhost:8080/",
          "height": 53
        },
        "id": "_ZjxsM8-aVHt",
        "outputId": "55709b5e-b645-403e-bb07-c9bf07f68536"
      },
      "id": "_ZjxsM8-aVHt",
      "execution_count": null,
      "outputs": [
        {
          "name": "stdout",
          "output_type": "stream",
          "text": [
            "please enter your name: Mark\n"
          ]
        },
        {
          "output_type": "execute_result",
          "data": {
            "text/plain": [
              "'Mark'"
            ],
            "application/vnd.google.colaboratory.intrinsic+json": {
              "type": "string"
            }
          },
          "metadata": {},
          "execution_count": 4
        }
      ]
    },
    {
      "cell_type": "code",
      "execution_count": null,
      "id": "f43f84cc-d057-4b74-b293-9d1addaab801",
      "metadata": {
        "id": "f43f84cc-d057-4b74-b293-9d1addaab801",
        "outputId": "0a083b1c-9021-4ad4-a0eb-b4765cba99d9"
      },
      "outputs": [
        {
          "name": "stdin",
          "output_type": "stream",
          "text": [
            "please tell your Age: 26\n"
          ]
        },
        {
          "data": {
            "text/plain": [
              "26"
            ]
          },
          "execution_count": 19,
          "metadata": {},
          "output_type": "execute_result"
        }
      ],
      "source": [
        "int(input(\"please tell your Age:\"))\n",
        "\n",
        "#input function: get input from users"
      ]
    },
    {
      "cell_type": "code",
      "execution_count": null,
      "id": "267827f7-95cb-4ede-82f2-426e9334afd4",
      "metadata": {
        "id": "267827f7-95cb-4ede-82f2-426e9334afd4",
        "outputId": "2e3e77ca-1b5b-4f8c-8d32-2c6ec00ddcee"
      },
      "outputs": [
        {
          "name": "stdin",
          "output_type": "stream",
          "text": [
            "please enter your name: savita\n"
          ]
        }
      ],
      "source": [
        "student_name = input(\"please enter your name:\")"
      ]
    },
    {
      "cell_type": "code",
      "execution_count": null,
      "id": "85fac6fa-c2a3-4593-aa44-519dbda506e3",
      "metadata": {
        "id": "85fac6fa-c2a3-4593-aa44-519dbda506e3",
        "outputId": "4358ad91-d644-410a-d97d-c2029f597fac"
      },
      "outputs": [
        {
          "data": {
            "text/plain": [
              "'savita'"
            ]
          },
          "execution_count": 9,
          "metadata": {},
          "output_type": "execute_result"
        }
      ],
      "source": [
        "student_name"
      ]
    },
    {
      "cell_type": "code",
      "execution_count": null,
      "id": "88d04440-687d-45ab-bf0f-baa6811dbc4c",
      "metadata": {
        "id": "88d04440-687d-45ab-bf0f-baa6811dbc4c",
        "outputId": "3628c657-86e0-4a87-a7d7-4a1ad273ac18"
      },
      "outputs": [
        {
          "name": "stdin",
          "output_type": "stream",
          "text": [
            "please enter your age 26\n"
          ]
        }
      ],
      "source": [
        "student_age = input(\"please enter your age\")"
      ]
    },
    {
      "cell_type": "code",
      "source": [
        "student_age = int(input(\"please enter your age \"))"
      ],
      "metadata": {
        "colab": {
          "base_uri": "https://localhost:8080/"
        },
        "id": "G_-w7dD-ar_J",
        "outputId": "7c0b389c-ccdd-47e7-ae83-d1d0d151292b"
      },
      "id": "G_-w7dD-ar_J",
      "execution_count": null,
      "outputs": [
        {
          "name": "stdout",
          "output_type": "stream",
          "text": [
            "please enter your age 30\n"
          ]
        }
      ]
    },
    {
      "cell_type": "code",
      "execution_count": null,
      "id": "a858de10-ead7-4338-a6ac-f146c69b1443",
      "metadata": {
        "id": "a858de10-ead7-4338-a6ac-f146c69b1443",
        "outputId": "8e7da2d9-4113-495f-fb4a-ee12afc22e08"
      },
      "outputs": [
        {
          "data": {
            "text/plain": [
              "26"
            ]
          },
          "execution_count": 12,
          "metadata": {},
          "output_type": "execute_result"
        }
      ],
      "source": [
        "student_age = int(student_age)\n",
        "student_age"
      ]
    },
    {
      "cell_type": "code",
      "execution_count": null,
      "id": "a4b63c17-3d8a-4a1e-b626-f323bba2f0fc",
      "metadata": {
        "id": "a4b63c17-3d8a-4a1e-b626-f323bba2f0fc",
        "outputId": "dac29a43-c220-4bb2-9520-a604b0a47e88"
      },
      "outputs": [
        {
          "name": "stdin",
          "output_type": "stream",
          "text": [
            "please enter your age 26\n"
          ]
        }
      ],
      "source": [
        "student_age = float(input(\"please enter your age\"))"
      ]
    },
    {
      "cell_type": "code",
      "execution_count": null,
      "id": "91dccb4c-7263-4c5a-89e7-a4671db251ab",
      "metadata": {
        "id": "91dccb4c-7263-4c5a-89e7-a4671db251ab",
        "outputId": "14a3f591-7a15-4a7e-e270-134ec808d546"
      },
      "outputs": [
        {
          "data": {
            "text/plain": [
              "12.0"
            ]
          },
          "execution_count": 22,
          "metadata": {},
          "output_type": "execute_result"
        }
      ],
      "source": [
        "student_age"
      ]
    },
    {
      "cell_type": "markdown",
      "id": "336c02a4-3601-4eb0-a9c9-80779491b50b",
      "metadata": {
        "id": "336c02a4-3601-4eb0-a9c9-80779491b50b"
      },
      "source": [
        "### How to define the name of the variable"
      ]
    },
    {
      "cell_type": "code",
      "execution_count": null,
      "id": "dce37d0f-34bd-4ac0-8783-f8f55b48332c",
      "metadata": {
        "id": "dce37d0f-34bd-4ac0-8783-f8f55b48332c"
      },
      "outputs": [],
      "source": [
        "name = \"Jasdeep\""
      ]
    },
    {
      "cell_type": "markdown",
      "id": "d36c2a07-0554-476e-a00e-359d9bc6a2e7",
      "metadata": {
        "id": "d36c2a07-0554-476e-a00e-359d9bc6a2e7"
      },
      "source": [
        "### List"
      ]
    },
    {
      "cell_type": "code",
      "execution_count": null,
      "id": "6074cc7d-010c-40fe-a406-d7c023cdbb8f",
      "metadata": {
        "colab": {
          "base_uri": "https://localhost:8080/"
        },
        "id": "6074cc7d-010c-40fe-a406-d7c023cdbb8f",
        "outputId": "612daaeb-b638-4474-f1b0-3860cf8e526d"
      },
      "outputs": [
        {
          "output_type": "execute_result",
          "data": {
            "text/plain": [
              "[24, 23, 15, 14, 'Savita', 'Hello']"
            ]
          },
          "metadata": {},
          "execution_count": 20
        }
      ],
      "source": [
        "Students_age = [24,23,15,14,\"Savita\",\"Hello\"]\n",
        "Students_age"
      ]
    },
    {
      "cell_type": "code",
      "execution_count": null,
      "id": "d26aaf5b-131b-4d3c-b061-21d1fd209bd3",
      "metadata": {
        "id": "d26aaf5b-131b-4d3c-b061-21d1fd209bd3"
      },
      "outputs": [],
      "source": [
        "Students_age[0] = 22"
      ]
    },
    {
      "cell_type": "code",
      "execution_count": null,
      "id": "5a378206-13e5-42c6-9336-6b8eea46c638",
      "metadata": {
        "id": "5a378206-13e5-42c6-9336-6b8eea46c638",
        "outputId": "14a0d4e1-f311-4214-fecd-78a3773ea77e"
      },
      "outputs": [
        {
          "data": {
            "text/plain": [
              "[22, 23, 15, 14, 'Savita', 'Hello']"
            ]
          },
          "execution_count": 34,
          "metadata": {},
          "output_type": "execute_result"
        }
      ],
      "source": [
        "Students_age"
      ]
    },
    {
      "cell_type": "code",
      "execution_count": null,
      "id": "ea57750e-7356-4ff0-841d-d5c247272af7",
      "metadata": {
        "colab": {
          "base_uri": "https://localhost:8080/"
        },
        "id": "ea57750e-7356-4ff0-841d-d5c247272af7",
        "outputId": "14497fa4-0324-4a61-8b22-013005f258d4"
      },
      "outputs": [
        {
          "output_type": "execute_result",
          "data": {
            "text/plain": [
              "[24, 23, 15, 14, 28, 'Hello']"
            ]
          },
          "metadata": {},
          "execution_count": 22
        }
      ],
      "source": [
        "Students_age[4] = 28\n",
        "\n",
        "Students_age"
      ]
    },
    {
      "cell_type": "code",
      "execution_count": null,
      "id": "0228f501-cad7-4cc3-92ff-103954b415b7",
      "metadata": {
        "colab": {
          "base_uri": "https://localhost:8080/"
        },
        "id": "0228f501-cad7-4cc3-92ff-103954b415b7",
        "outputId": "b1538531-8b28-4780-ce41-0af669c5b293"
      },
      "outputs": [
        {
          "output_type": "execute_result",
          "data": {
            "text/plain": [
              "28"
            ]
          },
          "metadata": {},
          "execution_count": 23
        }
      ],
      "source": [
        "Students_age[-2]"
      ]
    },
    {
      "cell_type": "code",
      "execution_count": null,
      "id": "71ea11e7-35c8-45b3-b44f-ef12677afb78",
      "metadata": {
        "id": "71ea11e7-35c8-45b3-b44f-ef12677afb78",
        "outputId": "35d14390-088b-46df-e273-59c2e6688e6d"
      },
      "outputs": [
        {
          "data": {
            "text/plain": [
              "28"
            ]
          },
          "execution_count": 16,
          "metadata": {},
          "output_type": "execute_result"
        }
      ],
      "source": [
        "Age_Students[2]"
      ]
    },
    {
      "cell_type": "code",
      "execution_count": null,
      "id": "b6c9110b-9abd-479d-b1ba-6369b6471f37",
      "metadata": {
        "id": "b6c9110b-9abd-479d-b1ba-6369b6471f37"
      },
      "outputs": [],
      "source": [
        "name = [\"Emm\",\"jas\",\"afo\", \"phi\",\"Jig\"]"
      ]
    },
    {
      "cell_type": "code",
      "execution_count": null,
      "id": "d3edac77-362b-4509-8fd4-ade2ed4dbf47",
      "metadata": {
        "id": "d3edac77-362b-4509-8fd4-ade2ed4dbf47",
        "outputId": "019dfe7f-0046-4b69-a53a-bdf33fc19c6d"
      },
      "outputs": [
        {
          "data": {
            "text/plain": [
              "['Emm', 'jas', 'afo', 'phi', 'Jig']"
            ]
          },
          "execution_count": 18,
          "metadata": {},
          "output_type": "execute_result"
        }
      ],
      "source": [
        "name"
      ]
    },
    {
      "cell_type": "code",
      "execution_count": null,
      "id": "019e4a2d-b995-418d-aa65-3290ebc8df34",
      "metadata": {
        "id": "019e4a2d-b995-418d-aa65-3290ebc8df34",
        "outputId": "78d4a307-1149-422d-ffb0-29ea7dd9b7f8"
      },
      "outputs": [
        {
          "data": {
            "text/plain": [
              "'phi'"
            ]
          },
          "execution_count": 19,
          "metadata": {},
          "output_type": "execute_result"
        }
      ],
      "source": [
        "name[-2]"
      ]
    },
    {
      "cell_type": "code",
      "execution_count": null,
      "id": "43e8aa78-39c6-4b15-af98-157909d9d40a",
      "metadata": {
        "id": "43e8aa78-39c6-4b15-af98-157909d9d40a",
        "outputId": "9e189dac-591a-44a6-a829-3046cea6a22c"
      },
      "outputs": [
        {
          "data": {
            "text/plain": [
              "'afo'"
            ]
          },
          "execution_count": 20,
          "metadata": {},
          "output_type": "execute_result"
        }
      ],
      "source": [
        "name[2]"
      ]
    },
    {
      "cell_type": "code",
      "execution_count": null,
      "id": "8ab15b86-5fa2-482a-8b93-b93b400f0920",
      "metadata": {
        "id": "8ab15b86-5fa2-482a-8b93-b93b400f0920",
        "outputId": "525d2fae-5a00-4331-a4a0-6ff2e02198c8"
      },
      "outputs": [
        {
          "data": {
            "text/plain": [
              "'phi'"
            ]
          },
          "execution_count": 42,
          "metadata": {},
          "output_type": "execute_result"
        }
      ],
      "source": [
        "name[-2]"
      ]
    },
    {
      "cell_type": "code",
      "execution_count": null,
      "id": "0c5c9b09-9c38-4ace-96eb-6fd39d85b716",
      "metadata": {
        "id": "0c5c9b09-9c38-4ace-96eb-6fd39d85b716"
      },
      "outputs": [],
      "source": [
        "name = [\"Emm\",\"jas\",\"afo\", \"phi\",\"Jig\"]"
      ]
    },
    {
      "cell_type": "code",
      "execution_count": null,
      "id": "b3581f9d-9380-42fc-8bf1-580facfe7612",
      "metadata": {
        "id": "b3581f9d-9380-42fc-8bf1-580facfe7612",
        "outputId": "b577d83f-a3e4-48bf-e578-d064eb938832"
      },
      "outputs": [
        {
          "data": {
            "text/plain": [
              "['Emm', 'afo', 'Jig']"
            ]
          },
          "execution_count": 24,
          "metadata": {},
          "output_type": "execute_result"
        }
      ],
      "source": [
        "name[0:5:2]"
      ]
    },
    {
      "cell_type": "code",
      "execution_count": null,
      "id": "d07d6b86-a123-4812-b9ff-330e0d18268d",
      "metadata": {
        "id": "d07d6b86-a123-4812-b9ff-330e0d18268d",
        "outputId": "ac2ccd27-0b23-4c7c-ea1a-79dd0f5892df"
      },
      "outputs": [
        {
          "data": {
            "text/plain": [
              "['Emm', 'jas', 'afo']"
            ]
          },
          "execution_count": 25,
          "metadata": {},
          "output_type": "execute_result"
        }
      ],
      "source": [
        "name[0:3]"
      ]
    },
    {
      "cell_type": "code",
      "execution_count": null,
      "id": "c9024af4-f73c-439e-ac9a-036eb4c46854",
      "metadata": {
        "id": "c9024af4-f73c-439e-ac9a-036eb4c46854"
      },
      "outputs": [],
      "source": [
        "a1 = [1,2,3,4,5,1]"
      ]
    },
    {
      "cell_type": "code",
      "execution_count": null,
      "id": "602b4e89-daa6-47c7-b9c9-56fd163632d8",
      "metadata": {
        "id": "602b4e89-daa6-47c7-b9c9-56fd163632d8",
        "outputId": "bdb8c277-ce33-4f78-8539-3dd5a4c45d83"
      },
      "outputs": [
        {
          "data": {
            "text/plain": [
              "[1, 2, 3, 4, 5, 1]"
            ]
          },
          "execution_count": 28,
          "metadata": {},
          "output_type": "execute_result"
        }
      ],
      "source": [
        "a1"
      ]
    },
    {
      "cell_type": "code",
      "execution_count": null,
      "id": "1411acde-7ecd-41a2-a906-cf619732ccfa",
      "metadata": {
        "id": "1411acde-7ecd-41a2-a906-cf619732ccfa"
      },
      "outputs": [],
      "source": [
        "a3 = ['emm',25,\"jas\",24]"
      ]
    },
    {
      "cell_type": "code",
      "execution_count": null,
      "id": "9a3f3826-0ab9-478b-862e-67bf391096ce",
      "metadata": {
        "id": "9a3f3826-0ab9-478b-862e-67bf391096ce",
        "outputId": "0cafa548-ce7b-492e-9b5d-23daf4be4c93"
      },
      "outputs": [
        {
          "data": {
            "text/plain": [
              "4"
            ]
          },
          "execution_count": 30,
          "metadata": {},
          "output_type": "execute_result"
        }
      ],
      "source": [
        "len(a3)"
      ]
    },
    {
      "cell_type": "code",
      "execution_count": null,
      "id": "ca314875-9a02-4dc1-83db-7e7706c7d66f",
      "metadata": {
        "id": "ca314875-9a02-4dc1-83db-7e7706c7d66f",
        "outputId": "2367d706-a0a3-4381-f8b6-a8a8dd9296ac"
      },
      "outputs": [
        {
          "data": {
            "text/plain": [
              "'Savita'"
            ]
          },
          "execution_count": 29,
          "metadata": {},
          "output_type": "execute_result"
        }
      ],
      "source": [
        "a3[-3]"
      ]
    },
    {
      "cell_type": "markdown",
      "id": "6cb7eb16-6183-42ff-bdc4-9a853e83edec",
      "metadata": {
        "id": "6cb7eb16-6183-42ff-bdc4-9a853e83edec"
      },
      "source": [
        "length : Numbers of elements and python code for length: len()"
      ]
    },
    {
      "cell_type": "code",
      "execution_count": null,
      "id": "3708c74a-af01-42fc-ab5b-770fe4c6ef2a",
      "metadata": {
        "id": "3708c74a-af01-42fc-ab5b-770fe4c6ef2a",
        "outputId": "4d6f0fdc-72bd-48f4-f5d6-a3f517cb5518"
      },
      "outputs": [
        {
          "data": {
            "text/plain": [
              "4"
            ]
          },
          "execution_count": 37,
          "metadata": {},
          "output_type": "execute_result"
        }
      ],
      "source": [
        "len(a3)"
      ]
    },
    {
      "cell_type": "code",
      "execution_count": null,
      "id": "5c5e122c-cd48-46c8-9757-694b38c67601",
      "metadata": {
        "id": "5c5e122c-cd48-46c8-9757-694b38c67601"
      },
      "outputs": [],
      "source": [
        "a5 = {\"A\",\"B\",\"C\",1,2,3,4}"
      ]
    },
    {
      "cell_type": "code",
      "source": [
        "len(a5)"
      ],
      "metadata": {
        "colab": {
          "base_uri": "https://localhost:8080/"
        },
        "id": "wZ8D4KsZcsgV",
        "outputId": "8d6b3094-dd72-45c3-9057-11fea0509be7"
      },
      "id": "wZ8D4KsZcsgV",
      "execution_count": null,
      "outputs": [
        {
          "output_type": "execute_result",
          "data": {
            "text/plain": [
              "7"
            ]
          },
          "metadata": {},
          "execution_count": 25
        }
      ]
    },
    {
      "cell_type": "code",
      "source": [
        "a5[0]"
      ],
      "metadata": {
        "colab": {
          "base_uri": "https://localhost:8080/",
          "height": 35
        },
        "id": "MKwibdL8cwRf",
        "outputId": "bf6436fb-051b-4884-e82c-c76ddd17114f"
      },
      "id": "MKwibdL8cwRf",
      "execution_count": null,
      "outputs": [
        {
          "output_type": "execute_result",
          "data": {
            "text/plain": [
              "'A'"
            ],
            "application/vnd.google.colaboratory.intrinsic+json": {
              "type": "string"
            }
          },
          "metadata": {},
          "execution_count": 26
        }
      ]
    },
    {
      "cell_type": "code",
      "source": [
        "a5[0]=4\n",
        "a5"
      ],
      "metadata": {
        "colab": {
          "base_uri": "https://localhost:8080/",
          "height": 159
        },
        "id": "tiOT5IMXc22j",
        "outputId": "c877be59-4f06-40e1-ade0-cb4af3db3aee"
      },
      "id": "tiOT5IMXc22j",
      "execution_count": null,
      "outputs": [
        {
          "output_type": "error",
          "ename": "TypeError",
          "evalue": "'set' object does not support item assignment",
          "traceback": [
            "\u001b[0;31m---------------------------------------------------------------------------\u001b[0m",
            "\u001b[0;31mTypeError\u001b[0m                                 Traceback (most recent call last)",
            "\u001b[0;32m<ipython-input-30-5af2d1413a5b>\u001b[0m in \u001b[0;36m<cell line: 0>\u001b[0;34m()\u001b[0m\n\u001b[0;32m----> 1\u001b[0;31m \u001b[0ma5\u001b[0m\u001b[0;34m[\u001b[0m\u001b[0;36m0\u001b[0m\u001b[0;34m]\u001b[0m\u001b[0;34m=\u001b[0m\u001b[0;36m4\u001b[0m\u001b[0;34m\u001b[0m\u001b[0;34m\u001b[0m\u001b[0m\n\u001b[0m\u001b[1;32m      2\u001b[0m \u001b[0ma5\u001b[0m\u001b[0;34m\u001b[0m\u001b[0;34m\u001b[0m\u001b[0m\n",
            "\u001b[0;31mTypeError\u001b[0m: 'set' object does not support item assignment"
          ]
        }
      ]
    },
    {
      "cell_type": "code",
      "execution_count": null,
      "id": "437cac49-b5d9-486e-b5fb-e6a9be8fe300",
      "metadata": {
        "id": "437cac49-b5d9-486e-b5fb-e6a9be8fe300",
        "outputId": "4234107c-65ec-4093-c3f6-6cb5df020a2a"
      },
      "outputs": [
        {
          "data": {
            "text/plain": [
              "'C'"
            ]
          },
          "execution_count": 39,
          "metadata": {},
          "output_type": "execute_result"
        }
      ],
      "source": [
        "a5[2]"
      ]
    },
    {
      "cell_type": "code",
      "execution_count": null,
      "id": "2a8c098d-f98f-40f3-9a30-f7bace113af7",
      "metadata": {
        "id": "2a8c098d-f98f-40f3-9a30-f7bace113af7",
        "outputId": "fb3b6773-6f41-4c3c-c678-b63ffda87994"
      },
      "outputs": [
        {
          "data": {
            "text/plain": [
              "3"
            ]
          },
          "execution_count": 40,
          "metadata": {},
          "output_type": "execute_result"
        }
      ],
      "source": [
        "a5[-2]"
      ]
    },
    {
      "cell_type": "code",
      "execution_count": null,
      "id": "21614f9f-9080-424c-881d-056ec95d1189",
      "metadata": {
        "id": "21614f9f-9080-424c-881d-056ec95d1189",
        "outputId": "72f3a772-4819-42dc-a8ad-b01b92d7687d"
      },
      "outputs": [
        {
          "data": {
            "text/plain": [
              "['A', 'B', 'C', 1]"
            ]
          },
          "execution_count": 41,
          "metadata": {},
          "output_type": "execute_result"
        }
      ],
      "source": [
        "a5[0:4]"
      ]
    },
    {
      "cell_type": "code",
      "execution_count": null,
      "id": "ecf69f97-a201-47ae-a36a-bd863434ee29",
      "metadata": {
        "id": "ecf69f97-a201-47ae-a36a-bd863434ee29",
        "outputId": "08d8eec4-a303-4ffe-ad82-304b3649e424"
      },
      "outputs": [
        {
          "data": {
            "text/plain": [
              "['B', 'C', 1, 2]"
            ]
          },
          "execution_count": 42,
          "metadata": {},
          "output_type": "execute_result"
        }
      ],
      "source": [
        "a5[1:5]"
      ]
    },
    {
      "cell_type": "code",
      "execution_count": null,
      "id": "5e265eb3-5491-406b-9ab8-c39ce2918e4a",
      "metadata": {
        "id": "5e265eb3-5491-406b-9ab8-c39ce2918e4a",
        "outputId": "897dda7b-373b-47df-f80f-90cb6cb38333"
      },
      "outputs": [
        {
          "data": {
            "text/plain": [
              "[1, 2, 3, 4]"
            ]
          },
          "execution_count": 47,
          "metadata": {},
          "output_type": "execute_result"
        }
      ],
      "source": [
        "a5[3:7]"
      ]
    },
    {
      "cell_type": "code",
      "execution_count": null,
      "id": "e8d93977-6d5a-4f1d-ab94-d09f45aef8a3",
      "metadata": {
        "id": "e8d93977-6d5a-4f1d-ab94-d09f45aef8a3"
      },
      "outputs": [],
      "source": [
        "Hello = 5"
      ]
    },
    {
      "cell_type": "code",
      "execution_count": null,
      "id": "92ce0790-fc52-4793-90d3-9feaa86e5f52",
      "metadata": {
        "id": "92ce0790-fc52-4793-90d3-9feaa86e5f52"
      },
      "outputs": [],
      "source": [
        "a2 = {1,2,3,4,5,1}"
      ]
    },
    {
      "cell_type": "code",
      "execution_count": null,
      "id": "551f7fb2-16f7-4e83-ab1d-afde83448b3f",
      "metadata": {
        "id": "551f7fb2-16f7-4e83-ab1d-afde83448b3f",
        "outputId": "26592864-deb0-455c-8877-5c806a4ccfc3"
      },
      "outputs": [
        {
          "ename": "TypeError",
          "evalue": "'set' object is not subscriptable",
          "output_type": "error",
          "traceback": [
            "\u001b[1;31m---------------------------------------------------------------------------\u001b[0m",
            "\u001b[1;31mTypeError\u001b[0m                                 Traceback (most recent call last)",
            "\u001b[1;32m~\\AppData\\Local\\Temp\\ipykernel_9060\\4003396109.py\u001b[0m in \u001b[0;36m<module>\u001b[1;34m\u001b[0m\n\u001b[1;32m----> 1\u001b[1;33m \u001b[0ma2\u001b[0m\u001b[1;33m[\u001b[0m\u001b[1;36m0\u001b[0m\u001b[1;33m]\u001b[0m\u001b[1;33m\u001b[0m\u001b[1;33m\u001b[0m\u001b[0m\n\u001b[0m",
            "\u001b[1;31mTypeError\u001b[0m: 'set' object is not subscriptable"
          ]
        }
      ],
      "source": [
        "a2[0]"
      ]
    },
    {
      "cell_type": "markdown",
      "id": "e1d2d1ee-f04d-4630-a62d-7e933ba3c03f",
      "metadata": {
        "id": "e1d2d1ee-f04d-4630-a62d-7e933ba3c03f"
      },
      "source": [
        "Addition"
      ]
    },
    {
      "cell_type": "code",
      "execution_count": null,
      "id": "5a323db1-8059-415d-a505-803b0dcf6b60",
      "metadata": {
        "id": "5a323db1-8059-415d-a505-803b0dcf6b60",
        "outputId": "95a3261d-c0a2-4e03-df62-d2232a3833f5"
      },
      "outputs": [
        {
          "data": {
            "text/plain": [
              "7"
            ]
          },
          "execution_count": 35,
          "metadata": {},
          "output_type": "execute_result"
        }
      ],
      "source": [
        "2+5"
      ]
    },
    {
      "cell_type": "markdown",
      "id": "968e27a7-fcdb-4fb7-83ef-bc7e2cf50e1c",
      "metadata": {
        "id": "968e27a7-fcdb-4fb7-83ef-bc7e2cf50e1c"
      },
      "source": [
        "Subtraction"
      ]
    },
    {
      "cell_type": "code",
      "execution_count": null,
      "id": "9fee70e9-8205-4747-af8b-7fcf497dde27",
      "metadata": {
        "id": "9fee70e9-8205-4747-af8b-7fcf497dde27",
        "outputId": "64cb161f-7100-43a3-f11c-0e92a4a1bace"
      },
      "outputs": [
        {
          "data": {
            "text/plain": [
              "-3"
            ]
          },
          "execution_count": 36,
          "metadata": {},
          "output_type": "execute_result"
        }
      ],
      "source": [
        "2-5"
      ]
    },
    {
      "cell_type": "markdown",
      "id": "944fedad-99ab-499f-9da8-8002b6d9fdfd",
      "metadata": {
        "id": "944fedad-99ab-499f-9da8-8002b6d9fdfd"
      },
      "source": [
        "Multiplication"
      ]
    },
    {
      "cell_type": "code",
      "execution_count": null,
      "id": "8f61630f-e70a-4901-9d82-07fb461d3315",
      "metadata": {
        "id": "8f61630f-e70a-4901-9d82-07fb461d3315",
        "outputId": "d14be8bc-028d-472c-ad7d-170d8cf60973"
      },
      "outputs": [
        {
          "data": {
            "text/plain": [
              "6"
            ]
          },
          "execution_count": 37,
          "metadata": {},
          "output_type": "execute_result"
        }
      ],
      "source": [
        "2*3"
      ]
    },
    {
      "cell_type": "markdown",
      "id": "39d6ed2b-7ba1-414e-b672-e46cfadacd54",
      "metadata": {
        "id": "39d6ed2b-7ba1-414e-b672-e46cfadacd54"
      },
      "source": [
        "Division"
      ]
    },
    {
      "cell_type": "code",
      "execution_count": null,
      "id": "c548f92f-9b2f-416a-9b5f-29d6ff982a91",
      "metadata": {
        "id": "c548f92f-9b2f-416a-9b5f-29d6ff982a91",
        "outputId": "e7a79941-5b0b-4fb5-cc0b-c5d6503e6e77"
      },
      "outputs": [
        {
          "data": {
            "text/plain": [
              "3.0"
            ]
          },
          "execution_count": 38,
          "metadata": {},
          "output_type": "execute_result"
        }
      ],
      "source": [
        "6/2"
      ]
    },
    {
      "cell_type": "markdown",
      "id": "f7cfc0ca-39f3-4f30-a573-0a6f9177f0c6",
      "metadata": {
        "id": "f7cfc0ca-39f3-4f30-a573-0a6f9177f0c6"
      },
      "source": [
        "Exponentiation"
      ]
    },
    {
      "cell_type": "code",
      "execution_count": null,
      "id": "14ce8e78-288f-4146-b881-7c5db734d326",
      "metadata": {
        "id": "14ce8e78-288f-4146-b881-7c5db734d326",
        "outputId": "a8f88860-01e5-4c09-f133-887d53b8e748"
      },
      "outputs": [
        {
          "data": {
            "text/plain": [
              "8"
            ]
          },
          "execution_count": 39,
          "metadata": {},
          "output_type": "execute_result"
        }
      ],
      "source": [
        "2**3"
      ]
    },
    {
      "cell_type": "markdown",
      "id": "a1181da3-843d-41e0-aab4-8bee7a410c51",
      "metadata": {
        "id": "a1181da3-843d-41e0-aab4-8bee7a410c51"
      },
      "source": [
        "Modulus"
      ]
    },
    {
      "cell_type": "code",
      "execution_count": null,
      "id": "d72acb58-4c45-4695-beeb-11e3d3392780",
      "metadata": {
        "id": "d72acb58-4c45-4695-beeb-11e3d3392780",
        "outputId": "f910b19e-3919-4f73-d723-63f00ca00883"
      },
      "outputs": [
        {
          "data": {
            "text/plain": [
              "1"
            ]
          },
          "execution_count": 40,
          "metadata": {},
          "output_type": "execute_result"
        }
      ],
      "source": [
        "7%2\n",
        "\n",
        "#leftover after division"
      ]
    },
    {
      "cell_type": "code",
      "execution_count": null,
      "id": "79d420d9-40fb-48e0-8cca-fb4c4a0c3942",
      "metadata": {
        "id": "79d420d9-40fb-48e0-8cca-fb4c4a0c3942"
      },
      "outputs": [],
      "source": [
        "x = 3"
      ]
    },
    {
      "cell_type": "code",
      "execution_count": null,
      "id": "b24e6404-9d1f-4fc0-9d0e-2224a9a2109c",
      "metadata": {
        "id": "b24e6404-9d1f-4fc0-9d0e-2224a9a2109c",
        "outputId": "786e7766-cbfd-43e8-9d91-5e97f6ee82c7"
      },
      "outputs": [
        {
          "data": {
            "text/plain": [
              "15"
            ]
          },
          "execution_count": 42,
          "metadata": {},
          "output_type": "execute_result"
        }
      ],
      "source": [
        "4*x +3"
      ]
    },
    {
      "cell_type": "code",
      "execution_count": null,
      "id": "3ebca631-3c70-4105-b651-aa7f01ae37bb",
      "metadata": {
        "id": "3ebca631-3c70-4105-b651-aa7f01ae37bb",
        "outputId": "5be6600e-1672-4c78-c653-db5403ca3b56"
      },
      "outputs": [
        {
          "data": {
            "text/plain": [
              "17"
            ]
          },
          "execution_count": 66,
          "metadata": {},
          "output_type": "execute_result"
        }
      ],
      "source": [
        "4*3+5"
      ]
    },
    {
      "cell_type": "code",
      "execution_count": null,
      "id": "4469b818-97cc-406a-b159-834ffe8c26b7",
      "metadata": {
        "id": "4469b818-97cc-406a-b159-834ffe8c26b7",
        "outputId": "01b59d0b-ab67-4681-81d3-a7408109bd30"
      },
      "outputs": [
        {
          "data": {
            "text/plain": [
              "2.0"
            ]
          },
          "execution_count": 43,
          "metadata": {},
          "output_type": "execute_result"
        }
      ],
      "source": [
        "4**(1/2)"
      ]
    },
    {
      "cell_type": "code",
      "execution_count": null,
      "id": "af3fb647-dd52-48c0-a5d1-bc2020404a83",
      "metadata": {
        "id": "af3fb647-dd52-48c0-a5d1-bc2020404a83"
      },
      "outputs": [],
      "source": [
        "x = 8"
      ]
    },
    {
      "cell_type": "code",
      "execution_count": null,
      "id": "944de5a1-2a05-4d44-978a-266828c5fa7c",
      "metadata": {
        "id": "944de5a1-2a05-4d44-978a-266828c5fa7c",
        "outputId": "db3f5b92-1ffd-4511-b8d0-281d5f45510c"
      },
      "outputs": [
        {
          "data": {
            "text/plain": [
              "35"
            ]
          },
          "execution_count": 69,
          "metadata": {},
          "output_type": "execute_result"
        }
      ],
      "source": [
        "4*x+3"
      ]
    },
    {
      "cell_type": "code",
      "execution_count": null,
      "id": "b85ff6f5-5e42-4ceb-98b7-0791f3b8837d",
      "metadata": {
        "id": "b85ff6f5-5e42-4ceb-98b7-0791f3b8837d"
      },
      "outputs": [],
      "source": [
        "import math"
      ]
    },
    {
      "cell_type": "code",
      "execution_count": null,
      "id": "69b1044f-3daf-4bfe-8374-aa26ed6a0488",
      "metadata": {
        "colab": {
          "base_uri": "https://localhost:8080/"
        },
        "id": "69b1044f-3daf-4bfe-8374-aa26ed6a0488",
        "outputId": "39af344c-6976-40fc-ea29-84be0ac1f6be"
      },
      "outputs": [
        {
          "output_type": "stream",
          "name": "stdout",
          "text": [
            "6 24\n"
          ]
        }
      ],
      "source": [
        "a=math.factorial(3)\n",
        "\n",
        "#3*2*1\n",
        "\n",
        "b=math.factorial(4)\n",
        "\n",
        "print (a, b)"
      ]
    },
    {
      "cell_type": "code",
      "execution_count": null,
      "id": "e4df9574-b68a-48dc-8523-d9af04de46c2",
      "metadata": {
        "colab": {
          "base_uri": "https://localhost:8080/"
        },
        "id": "e4df9574-b68a-48dc-8523-d9af04de46c2",
        "outputId": "687797fa-7b5e-4f53-df19-5e66035e7910"
      },
      "outputs": [
        {
          "output_type": "execute_result",
          "data": {
            "text/plain": [
              "5.0"
            ]
          },
          "metadata": {},
          "execution_count": 33
        }
      ],
      "source": [
        "math.fabs(5)\n",
        "\n",
        "#absolute number"
      ]
    },
    {
      "cell_type": "code",
      "source": [
        "math.fabs(-5)\n"
      ],
      "metadata": {
        "colab": {
          "base_uri": "https://localhost:8080/"
        },
        "id": "YiYemx9td2oA",
        "outputId": "e8ffd5fd-8af6-4498-de89-3210d1f990b0"
      },
      "id": "YiYemx9td2oA",
      "execution_count": null,
      "outputs": [
        {
          "output_type": "execute_result",
          "data": {
            "text/plain": [
              "5.0"
            ]
          },
          "metadata": {},
          "execution_count": 36
        }
      ]
    },
    {
      "cell_type": "code",
      "execution_count": null,
      "id": "3f187e4a-af65-43b8-a373-7c5d011415de",
      "metadata": {
        "id": "3f187e4a-af65-43b8-a373-7c5d011415de",
        "outputId": "590da62b-9aad-44b5-ad9c-2544722b78a3"
      },
      "outputs": [
        {
          "data": {
            "text/plain": [
              "46656.0"
            ]
          },
          "execution_count": 50,
          "metadata": {},
          "output_type": "execute_result"
        }
      ],
      "source": [
        "math.pow(6,6)"
      ]
    },
    {
      "cell_type": "code",
      "source": [
        "math.pow(3, 4)\n",
        "\n",
        "#3 power 4"
      ],
      "metadata": {
        "colab": {
          "base_uri": "https://localhost:8080/"
        },
        "id": "AfUZS3m2d6O0",
        "outputId": "2b412c94-5d88-454c-86fb-5fd070389074"
      },
      "id": "AfUZS3m2d6O0",
      "execution_count": null,
      "outputs": [
        {
          "output_type": "execute_result",
          "data": {
            "text/plain": [
              "81.0"
            ]
          },
          "metadata": {},
          "execution_count": 37
        }
      ]
    },
    {
      "cell_type": "code",
      "execution_count": null,
      "id": "81ca937a-97cf-415f-8d72-67e8b290fbda",
      "metadata": {
        "id": "81ca937a-97cf-415f-8d72-67e8b290fbda",
        "outputId": "e482e9c8-b850-4f87-b40e-f372e3f2ed5a"
      },
      "outputs": [
        {
          "data": {
            "text/plain": [
              "range(0, 11)"
            ]
          },
          "execution_count": 52,
          "metadata": {},
          "output_type": "execute_result"
        }
      ],
      "source": [
        "range(11)"
      ]
    }
  ],
  "metadata": {
    "kernelspec": {
      "display_name": "Python 3 (ipykernel)",
      "language": "python",
      "name": "python3"
    },
    "language_info": {
      "codemirror_mode": {
        "name": "ipython",
        "version": 3
      },
      "file_extension": ".py",
      "mimetype": "text/x-python",
      "name": "python",
      "nbconvert_exporter": "python",
      "pygments_lexer": "ipython3",
      "version": "3.9.13"
    },
    "colab": {
      "provenance": [],
      "include_colab_link": true
    }
  },
  "nbformat": 4,
  "nbformat_minor": 5
}